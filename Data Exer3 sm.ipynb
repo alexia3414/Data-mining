{
 "cells": [
  {
   "cell_type": "code",
   "execution_count": null,
   "id": "b42eb015-8e46-49e4-9e3f-a2a2d5b40d0f",
   "metadata": {},
   "outputs": [],
   "source": [
    "import pandas as pd\n",
    "main_file = pd.read_excel(\"financial_sample.xlsx\")\n",
    "main_file.head()"
   ]
  },
  {
   "cell_type": "markdown",
   "id": "988b3d04-6ea2-478f-a498-204e10d9d983",
   "metadata": {},
   "source": [
    "### Rename some columns"
   ]
  },
  {
   "cell_type": "code",
   "execution_count": null,
   "id": "079cbb10-2908-4e54-87e5-be2953d69ac5",
   "metadata": {},
   "outputs": [],
   "source": [
    "main_file.rename(columns = {\"Product\":\"product_name\",\"Country\":\"city\", \"Discount Band\":\"category\", \"Units Sold\":\"price\", \"Sale Price\":\"quantity\", \"Month Name\":\"month\", \"Date\":\"date\", \"Year\":\"year\", \"Segment\":\"customer_name\"}, inplace = True)"
   ]
  },
  {
   "cell_type": "code",
   "execution_count": null,
   "id": "2dd2205a-94ad-4b22-98de-2c8c65903265",
   "metadata": {},
   "outputs": [],
   "source": [
    "main_file.head()"
   ]
  },
  {
   "cell_type": "code",
   "execution_count": null,
   "id": "e951829f-0f4f-4632-b0c4-e5faa14c9292",
   "metadata": {},
   "outputs": [],
   "source": [
    "sales = pd.read_csv(\"sales_data.csv\")\n",
    "product = pd.read_csv(\"product_data.csv\")\n",
    "customer = pd.read_csv(\"customer_data.csv\")\n",
    "date = pd.read_csv(\"date_data.csv\")"
   ]
  },
  {
   "cell_type": "code",
   "execution_count": null,
   "id": "695d639e-227e-4f6c-81e3-b99f4a98f199",
   "metadata": {},
   "outputs": [],
   "source": [
    "product = main_file[['product_name', 'category']]\n",
    "product.to_csv(\"product_data.csv\", index=False)\n",
    "productnew = pd.read_csv(\"product_data.csv\")\n",
    "productnew.head()"
   ]
  },
  {
   "cell_type": "code",
   "execution_count": null,
   "id": "828ee2eb-cebd-4e39-b460-3d58931c5e6c",
   "metadata": {},
   "outputs": [],
   "source": [
    "customer = main_file[['customer_name','city']]\n",
    "customer.to_csv(\"customer_data.csv\", index=False)\n",
    "customernew = pd.read_csv(\"customer_data.csv\")\n",
    "customernew.head()"
   ]
  },
  {
   "cell_type": "code",
   "execution_count": null,
   "id": "4fc01cae-f4ff-48b0-a2f3-663bf0b6b63d",
   "metadata": {},
   "outputs": [],
   "source": [
    "date = main_file[['date','month','year']]\n",
    "date.to_csv(\"date_data.csv\", index=False)\n",
    "datenew = pd.read_csv(\"date_data.csv\")\n",
    "datenew.head()"
   ]
  },
  {
   "cell_type": "code",
   "execution_count": null,
   "id": "1da3c86d-e3ac-4a6f-b51d-33b6bda9eee7",
   "metadata": {},
   "outputs": [],
   "source": [
    "sales = main_file[['quantity','price']]\n",
    "sales.to_csv(\"sales_data.csv\", index=False)\n",
    "salesnew = pd.read_csv(\"sales_data.csv\")\n",
    "salesnew.head()"
   ]
  },
  {
   "cell_type": "code",
   "execution_count": null,
   "id": "4ee21cd1-85a3-430c-989d-af31788219d4",
   "metadata": {},
   "outputs": [],
   "source": [
    "!pip install mysql-connector-python pandas sqlalchemy"
   ]
  },
  {
   "cell_type": "code",
   "execution_count": null,
   "id": "86be2b17-45e4-4b5e-8ed9-5821cc007743",
   "metadata": {},
   "outputs": [],
   "source": [
    "import mysql.connector as mc\n",
    "from sqlalchemy import create_engine"
   ]
  },
  {
   "cell_type": "code",
   "execution_count": null,
   "id": "237df7e4-4244-466d-b271-87942fb9cdae",
   "metadata": {},
   "outputs": [],
   "source": [
    "from sqlalchemy import create_engine\n",
    "\n",
    "# Define database connection details\n",
    "username = \"root\"\n",
    "password = \"\"\n",
    "host = \"localhost\"\n",
    "database = \"sales2\"\n",
    "\n",
    "# Create the database engine\n",
    "db_url = f\"mysql+mysqlconnector://{username}:{password}@{host}/{database}\"\n",
    "engine = create_engine(db_url)\n",
    "\n",
    "# Create a connection and get a cursor\n",
    "with engine.connect() as connection:\n",
    "    mycursor = connection.connection.cursor()  # Get raw cursor\n",
    "\n"
   ]
  },
  {
   "cell_type": "code",
   "execution_count": null,
   "id": "31b11e63-2e39-4fb0-b3eb-de0990c8a68c",
   "metadata": {},
   "outputs": [],
   "source": [
    "productnew = pd.DataFrame(productnew)\n",
    "datenew = pd.DataFrame(datenew)\n",
    "customernew = pd.DataFrame(customernew)\n",
    "salesnew = pd.DataFrame(salesnew)"
   ]
  },
  {
   "cell_type": "code",
   "execution_count": null,
   "id": "9a2af9d2-79ca-487a-ad50-5129fa0fcb64",
   "metadata": {},
   "outputs": [],
   "source": [
    "productnew.to_sql(\"product_data\", con=engine, if_exists=\"append\", index=False)\n",
    "datenew.to_sql(\"date_data\", con=engine, if_exists=\"append\", index=False)\n",
    "customernew.to_sql(\"customer_data\", con=engine, if_exists=\"append\", index=False)\n",
    "salesnew.to_sql(\"sales_data\", con=engine, if_exists=\"append\", index=False)"
   ]
  },
  {
   "cell_type": "code",
   "execution_count": null,
   "id": "3e4cc51a-44aa-4507-bc9a-a851b01e7e3a",
   "metadata": {},
   "outputs": [],
   "source": [
    "#print(pd.read_sql('SELECT * FROM product_data LIMIT 10',db_url)\n",
    "print (pd.read_sql('SELECT * FROM product_data LIMIT 0', db_url))\n",
    "      "
   ]
  },
  {
   "cell_type": "code",
   "execution_count": null,
   "id": "5acc7086-74f4-4e63-9833-758e8bdb6202",
   "metadata": {},
   "outputs": [],
   "source": []
  }
 ],
 "metadata": {
  "kernelspec": {
   "display_name": "Python 3 (ipykernel)",
   "language": "python",
   "name": "python3"
  },
  "language_info": {
   "codemirror_mode": {
    "name": "ipython",
    "version": 3
   },
   "file_extension": ".py",
   "mimetype": "text/x-python",
   "name": "python",
   "nbconvert_exporter": "python",
   "pygments_lexer": "ipython3",
   "version": "3.12.7"
  }
 },
 "nbformat": 4,
 "nbformat_minor": 5
}
