{
 "cells": [
  {
   "cell_type": "markdown",
   "id": "9f0ddc99",
   "metadata": {},
   "source": [
    "### Connection of database and data warehouse"
   ]
  },
  {
   "cell_type": "code",
   "execution_count": 1,
   "id": "88b77b68",
   "metadata": {},
   "outputs": [
    {
     "name": "stdout",
     "output_type": "stream",
     "text": [
      "✅ Successfully connected to source database!\n",
      "✅ Successfully connected to target database!\n"
     ]
    }
   ],
   "source": [
    "import mysql.connector\n",
    "from mysql.connector import Error\n",
    "import pandas as pd\n",
    "\n",
    "# Database configurations\n",
    "config = {\n",
    "    \"source\": {\n",
    "        \"host\": \"localhost\",\n",
    "        \"user\": \"root\",\n",
    "        \"password\": \"\",\n",
    "        \"database\": \"gravity_books\"\n",
    "    },\n",
    "    \"target\": {\n",
    "        \"host\": \"localhost\",\n",
    "        \"user\": \"root\",\n",
    "        \"password\": \"\",\n",
    "        \"database\": \"storebooks_dw\"\n",
    "    }\n",
    "}\n",
    "\n",
    "def create_connection(config_key):\n",
    "    \"\"\"Create database connection\"\"\"\n",
    "    try:\n",
    "        conn = mysql.connector.connect(**config[config_key])\n",
    "        print(f\"✅ Successfully connected to {config_key} database!\")\n",
    "        return conn\n",
    "    except Error as e:\n",
    "        print(f\"❌ Error connecting to {config_key} database:\", e)\n",
    "        return None\n",
    "\n",
    "# Create connections\n",
    "source_conn = create_connection(\"source\")\n",
    "target_conn = create_connection(\"target\")"
   ]
  },
  {
   "cell_type": "markdown",
   "id": "0b7bc5e5",
   "metadata": {},
   "source": [
    "### Test connection"
   ]
  },
  {
   "cell_type": "code",
   "execution_count": 2,
   "id": "87556ca5",
   "metadata": {},
   "outputs": [
    {
     "name": "stdout",
     "output_type": "stream",
     "text": [
      "📊 gravity_books contains 15 tables\n",
      "📊 storebooks_dw contains 5 tables\n",
      "\n",
      "🚀 All connections working! Ready for ETL.\n"
     ]
    }
   ],
   "source": [
    "def test_connection(conn, db_name):\n",
    "    \"\"\"Test database connection with a simple query\"\"\"\n",
    "    if conn:\n",
    "        try:\n",
    "            cursor = conn.cursor()\n",
    "            cursor.execute(f\"SELECT COUNT(*) FROM information_schema.tables WHERE table_schema = '{db_name}';\")\n",
    "            count = cursor.fetchone()[0]\n",
    "            print(f\"📊 {db_name} contains {count} tables\")\n",
    "            return True\n",
    "        except Error as e:\n",
    "            print(f\"Query failed on {db_name}:\", e)\n",
    "            return False\n",
    "    return False\n",
    "\n",
    "# Test connections\n",
    "source_ok = test_connection(source_conn, config[\"source\"][\"database\"])\n",
    "target_ok = test_connection(target_conn, config[\"target\"][\"database\"])\n",
    "\n",
    "if not (source_ok and target_ok):\n",
    "    print(\"\\n⚠️ Please fix connection issues before proceeding!\")\n",
    "else:\n",
    "    print(\"\\n🚀 All connections working! Ready for ETL.\")"
   ]
  },
  {
   "cell_type": "markdown",
   "id": "b7f57a29",
   "metadata": {},
   "source": [
    "### Extract customers for dimcustomer"
   ]
  },
  {
   "cell_type": "code",
   "execution_count": 3,
   "id": "5982f513",
   "metadata": {},
   "outputs": [
    {
     "name": "stderr",
     "output_type": "stream",
     "text": [
      "C:\\Users\\pc\\AppData\\Local\\Temp\\ipykernel_1856\\423742593.py:18: UserWarning: pandas only supports SQLAlchemy connectable (engine/connection) or database string URI or sqlite3 DBAPI2 connection. Other DBAPI2 objects are not tested. Please consider using SQLAlchemy.\n",
      "  return pd.read_sql(query, source_conn)\n"
     ]
    },
    {
     "name": "stdout",
     "output_type": "stream",
     "text": [
      "📊 Extracted 3350 customer records\n"
     ]
    },
    {
     "data": {
      "text/html": [
       "<div>\n",
       "<style scoped>\n",
       "    .dataframe tbody tr th:only-of-type {\n",
       "        vertical-align: middle;\n",
       "    }\n",
       "\n",
       "    .dataframe tbody tr th {\n",
       "        vertical-align: top;\n",
       "    }\n",
       "\n",
       "    .dataframe thead th {\n",
       "        text-align: right;\n",
       "    }\n",
       "</style>\n",
       "<table border=\"1\" class=\"dataframe\">\n",
       "  <thead>\n",
       "    <tr style=\"text-align: right;\">\n",
       "      <th></th>\n",
       "      <th>customer_id</th>\n",
       "      <th>first_name</th>\n",
       "      <th>last_name</th>\n",
       "      <th>email</th>\n",
       "      <th>country_name</th>\n",
       "      <th>street_name</th>\n",
       "      <th>address_status</th>\n",
       "    </tr>\n",
       "  </thead>\n",
       "  <tbody>\n",
       "    <tr>\n",
       "      <th>0</th>\n",
       "      <td>678</td>\n",
       "      <td>Raeann</td>\n",
       "      <td>Doole</td>\n",
       "      <td>rdooleit@wired.com</td>\n",
       "      <td>Afghanistan</td>\n",
       "      <td>2 Sachtjen Place</td>\n",
       "      <td>Active</td>\n",
       "    </tr>\n",
       "    <tr>\n",
       "      <th>1</th>\n",
       "      <td>679</td>\n",
       "      <td>Benetta</td>\n",
       "      <td>Bussell</td>\n",
       "      <td>bbusselliu@wp.com</td>\n",
       "      <td>Afghanistan</td>\n",
       "      <td>2 Sachtjen Place</td>\n",
       "      <td>Active</td>\n",
       "    </tr>\n",
       "    <tr>\n",
       "      <th>2</th>\n",
       "      <td>734</td>\n",
       "      <td>Harriot</td>\n",
       "      <td>Korpolak</td>\n",
       "      <td>hkorpolakkd@nih.gov</td>\n",
       "      <td>Afghanistan</td>\n",
       "      <td>2 Sachtjen Place</td>\n",
       "      <td>Active</td>\n",
       "    </tr>\n",
       "    <tr>\n",
       "      <th>3</th>\n",
       "      <td>1861</td>\n",
       "      <td>Federica</td>\n",
       "      <td>Moulding</td>\n",
       "      <td>fmouldingnw@samsung.com</td>\n",
       "      <td>Afghanistan</td>\n",
       "      <td>2 Sachtjen Place</td>\n",
       "      <td>Active</td>\n",
       "    </tr>\n",
       "    <tr>\n",
       "      <th>4</th>\n",
       "      <td>528</td>\n",
       "      <td>Laurel</td>\n",
       "      <td>Brassington</td>\n",
       "      <td>lbrassingtonen@smh.com.au</td>\n",
       "      <td>Afghanistan</td>\n",
       "      <td>336 Tennessee Parkway</td>\n",
       "      <td>Active</td>\n",
       "    </tr>\n",
       "  </tbody>\n",
       "</table>\n",
       "</div>"
      ],
      "text/plain": [
       "   customer_id first_name    last_name                      email  \\\n",
       "0          678     Raeann        Doole         rdooleit@wired.com   \n",
       "1          679    Benetta      Bussell          bbusselliu@wp.com   \n",
       "2          734    Harriot     Korpolak        hkorpolakkd@nih.gov   \n",
       "3         1861   Federica     Moulding    fmouldingnw@samsung.com   \n",
       "4          528     Laurel  Brassington  lbrassingtonen@smh.com.au   \n",
       "\n",
       "  country_name            street_name address_status  \n",
       "0  Afghanistan       2 Sachtjen Place         Active  \n",
       "1  Afghanistan       2 Sachtjen Place         Active  \n",
       "2  Afghanistan       2 Sachtjen Place         Active  \n",
       "3  Afghanistan       2 Sachtjen Place         Active  \n",
       "4  Afghanistan  336 Tennessee Parkway         Active  "
      ]
     },
     "metadata": {},
     "output_type": "display_data"
    }
   ],
   "source": [
    "def extract_customers(source_conn):\n",
    "    \"\"\"Extract customer data with addresses\"\"\"\n",
    "    query = \"\"\"\n",
    "    SELECT \n",
    "        c.customer_id,\n",
    "        c.first_name,\n",
    "        c.last_name,\n",
    "        c.email,\n",
    "        co.country_name,\n",
    "        CONCAT(a.street_number, ' ', a.street_name) AS street_name,\n",
    "        ast.address_status\n",
    "    FROM gravity_books.customer c\n",
    "    JOIN gravity_books.customer_address ca ON c.customer_id = ca.customer_id\n",
    "    JOIN gravity_books.address a ON ca.address_id = a.address_id\n",
    "    JOIN gravity_books.country co ON a.country_id = co.country_id\n",
    "    JOIN gravity_books.address_status ast ON ca.status_id = ast.status_id\n",
    "    \"\"\"\n",
    "    return pd.read_sql(query, source_conn)\n",
    "\n",
    "customer_df = extract_customers(source_conn)\n",
    "print(f\"📊 Extracted {len(customer_df)} customer records\")\n",
    "display(customer_df.head())"
   ]
  },
  {
   "cell_type": "markdown",
   "id": "04e10d9c",
   "metadata": {},
   "source": [
    "### Extract Books for dimbook"
   ]
  },
  {
   "cell_type": "code",
   "execution_count": 4,
   "id": "3822d122",
   "metadata": {},
   "outputs": [
    {
     "name": "stderr",
     "output_type": "stream",
     "text": [
      "C:\\Users\\pc\\AppData\\Local\\Temp\\ipykernel_1856\\2574549488.py:20: UserWarning: pandas only supports SQLAlchemy connectable (engine/connection) or database string URI or sqlite3 DBAPI2 connection. Other DBAPI2 objects are not tested. Please consider using SQLAlchemy.\n",
      "  return pd.read_sql(query, source_conn)\n"
     ]
    },
    {
     "name": "stdout",
     "output_type": "stream",
     "text": [
      "📚 Extracted 11127 book records\n"
     ]
    },
    {
     "data": {
      "text/html": [
       "<div>\n",
       "<style scoped>\n",
       "    .dataframe tbody tr th:only-of-type {\n",
       "        vertical-align: middle;\n",
       "    }\n",
       "\n",
       "    .dataframe tbody tr th {\n",
       "        vertical-align: top;\n",
       "    }\n",
       "\n",
       "    .dataframe thead th {\n",
       "        text-align: right;\n",
       "    }\n",
       "</style>\n",
       "<table border=\"1\" class=\"dataframe\">\n",
       "  <thead>\n",
       "    <tr style=\"text-align: right;\">\n",
       "      <th></th>\n",
       "      <th>book_id</th>\n",
       "      <th>title</th>\n",
       "      <th>isbn13</th>\n",
       "      <th>language_name</th>\n",
       "      <th>num_pages</th>\n",
       "      <th>publication_date</th>\n",
       "      <th>publisher_name</th>\n",
       "      <th>author_name</th>\n",
       "    </tr>\n",
       "  </thead>\n",
       "  <tbody>\n",
       "    <tr>\n",
       "      <th>0</th>\n",
       "      <td>1</td>\n",
       "      <td>The World's First Love: Mary  Mother of God</td>\n",
       "      <td>8987059752</td>\n",
       "      <td>United States English</td>\n",
       "      <td>276</td>\n",
       "      <td>1996-09-01</td>\n",
       "      <td>Ignatius Press</td>\n",
       "      <td>Fulton J. Sheen</td>\n",
       "    </tr>\n",
       "    <tr>\n",
       "      <th>1</th>\n",
       "      <td>2</td>\n",
       "      <td>The Illuminati</td>\n",
       "      <td>20049130001</td>\n",
       "      <td>English</td>\n",
       "      <td>352</td>\n",
       "      <td>2004-10-04</td>\n",
       "      <td>Thomas Nelson</td>\n",
       "      <td>Larry Burkett</td>\n",
       "    </tr>\n",
       "    <tr>\n",
       "      <th>2</th>\n",
       "      <td>3</td>\n",
       "      <td>The Servant Leader</td>\n",
       "      <td>23755004321</td>\n",
       "      <td>English</td>\n",
       "      <td>128</td>\n",
       "      <td>2003-03-11</td>\n",
       "      <td>Thomas Nelson</td>\n",
       "      <td>Kenneth H. Blanchard</td>\n",
       "    </tr>\n",
       "    <tr>\n",
       "      <th>3</th>\n",
       "      <td>4</td>\n",
       "      <td>What Life Was Like in the Jewel in the Crown: ...</td>\n",
       "      <td>34406054602</td>\n",
       "      <td>English</td>\n",
       "      <td>168</td>\n",
       "      <td>1999-09-01</td>\n",
       "      <td>Time Life Medical</td>\n",
       "      <td>Time-Life Books</td>\n",
       "    </tr>\n",
       "    <tr>\n",
       "      <th>4</th>\n",
       "      <td>5</td>\n",
       "      <td>Cliffs Notes on Aristophanes' Lysistrata  The ...</td>\n",
       "      <td>49086007763</td>\n",
       "      <td>English</td>\n",
       "      <td>80</td>\n",
       "      <td>1983-12-29</td>\n",
       "      <td>Cliffs Notes</td>\n",
       "      <td>W. John Campbell</td>\n",
       "    </tr>\n",
       "  </tbody>\n",
       "</table>\n",
       "</div>"
      ],
      "text/plain": [
       "   book_id                                              title       isbn13  \\\n",
       "0        1        The World's First Love: Mary  Mother of God   8987059752   \n",
       "1        2                                     The Illuminati  20049130001   \n",
       "2        3                                 The Servant Leader  23755004321   \n",
       "3        4  What Life Was Like in the Jewel in the Crown: ...  34406054602   \n",
       "4        5  Cliffs Notes on Aristophanes' Lysistrata  The ...  49086007763   \n",
       "\n",
       "           language_name  num_pages publication_date     publisher_name  \\\n",
       "0  United States English        276       1996-09-01     Ignatius Press   \n",
       "1                English        352       2004-10-04      Thomas Nelson   \n",
       "2                English        128       2003-03-11      Thomas Nelson   \n",
       "3                English        168       1999-09-01  Time Life Medical   \n",
       "4                English         80       1983-12-29       Cliffs Notes   \n",
       "\n",
       "            author_name  \n",
       "0       Fulton J. Sheen  \n",
       "1         Larry Burkett  \n",
       "2  Kenneth H. Blanchard  \n",
       "3       Time-Life Books  \n",
       "4      W. John Campbell  "
      ]
     },
     "metadata": {},
     "output_type": "display_data"
    }
   ],
   "source": [
    "def extract_books(source_conn):\n",
    "    \"\"\"Extract book data with authors and publishers\"\"\"\n",
    "    query = \"\"\"\n",
    "    SELECT \n",
    "        b.book_id,\n",
    "        b.title,\n",
    "        b.isbn13,\n",
    "        bl.language_name,\n",
    "        b.num_pages,\n",
    "        b.publication_date,\n",
    "        p.publisher_name,\n",
    "        GROUP_CONCAT(DISTINCT a.author_name SEPARATOR ', ') AS author_name\n",
    "    FROM gravity_books.book b\n",
    "    JOIN gravity_books.publisher p ON b.publisher_id = p.publisher_id\n",
    "    JOIN gravity_books.book_language bl ON b.language_id = bl.language_id\n",
    "    LEFT JOIN gravity_books.book_author ba ON b.book_id = ba.book_id\n",
    "    LEFT JOIN gravity_books.author a ON ba.author_id = a.author_id\n",
    "    GROUP BY b.book_id\n",
    "    \"\"\"\n",
    "    return pd.read_sql(query, source_conn)\n",
    "\n",
    "book_df = extract_books(source_conn)\n",
    "print(f\"📚 Extracted {len(book_df)} book records\")\n",
    "display(book_df.head())"
   ]
  },
  {
   "cell_type": "markdown",
   "id": "a0267a78",
   "metadata": {},
   "source": [
    "### Extract for dimdate"
   ]
  },
  {
   "cell_type": "code",
   "execution_count": 6,
   "id": "e3ffc9ba",
   "metadata": {},
   "outputs": [
    {
     "name": "stdout",
     "output_type": "stream",
     "text": [
      "✅ Loaded 1096 date records\n"
     ]
    },
    {
     "name": "stderr",
     "output_type": "stream",
     "text": [
      "C:\\Users\\pc\\AppData\\Local\\Temp\\ipykernel_1856\\575145876.py:16: UserWarning: pandas only supports SQLAlchemy connectable (engine/connection) or database string URI or sqlite3 DBAPI2 connection. Other DBAPI2 objects are not tested. Please consider using SQLAlchemy.\n",
      "  date_df = pd.read_sql(date_query, source_conn)\n"
     ]
    }
   ],
   "source": [
    "# Corrected date dimension extraction\n",
    "date_query = \"\"\"\n",
    "SELECT DISTINCT\n",
    "    DATE(o.order_date) AS full_date,\n",
    "    DAY(o.order_date) AS day,\n",
    "    MONTH(o.order_date) AS month,\n",
    "    MONTHNAME(o.order_date) AS month_name,\n",
    "    QUARTER(o.order_date) AS quarter,\n",
    "    YEAR(o.order_date) AS year\n",
    "FROM gravity_books.cust_order o\n",
    "WHERE DATE(o.order_date) NOT IN (\n",
    "    SELECT full_date FROM storebooks_dw.dimdate\n",
    ")\n",
    "\"\"\"\n",
    "\n",
    "date_df = pd.read_sql(date_query, source_conn)\n",
    "\n",
    "# Add SCD fields\n",
    "date_df['is_current'] = 1\n",
    "print(f\"✅ Loaded {len(date_df)} date records\")"
   ]
  },
  {
   "cell_type": "markdown",
   "id": "3d128c98",
   "metadata": {},
   "source": [
    "### Extract for dimordermethod"
   ]
  },
  {
   "cell_type": "code",
   "execution_count": 8,
   "id": "e2967a63",
   "metadata": {},
   "outputs": [
    {
     "name": "stderr",
     "output_type": "stream",
     "text": [
      "C:\\Users\\pc\\AppData\\Local\\Temp\\ipykernel_1856\\2797965807.py:14: UserWarning: pandas only supports SQLAlchemy connectable (engine/connection) or database string URI or sqlite3 DBAPI2 connection. Other DBAPI2 objects are not tested. Please consider using SQLAlchemy.\n",
      "  method_df = pd.read_sql(method_query, source_conn)\n"
     ]
    }
   ],
   "source": [
    "from sqlalchemy import Integer, String, DateTime, Boolean, SmallInteger\n",
    "# Corrected query with proper database reference\n",
    "method_query = \"\"\"\n",
    "SELECT \n",
    "    method_id AS method_id_BK,\n",
    "    method_name,\n",
    "    1 AS source_system_code  # Adding this at extraction since it's required\n",
    "FROM gravity_books.shipping_method\n",
    "WHERE method_id NOT IN (\n",
    "    SELECT method_id_BK FROM storebooks_dw.dimordermethod\n",
    ")\n",
    "\"\"\"\n",
    "\n",
    "method_df = pd.read_sql(method_query, source_conn)"
   ]
  },
  {
   "cell_type": "markdown",
   "id": "f95e05c4",
   "metadata": {},
   "source": [
    "### Extract Fact Data from Source (Fact Table)"
   ]
  },
  {
   "cell_type": "code",
   "execution_count": 27,
   "id": "98cfad2e",
   "metadata": {},
   "outputs": [
    {
     "name": "stderr",
     "output_type": "stream",
     "text": [
      "C:\\Users\\pc\\AppData\\Local\\Temp\\ipykernel_1856\\3610558931.py:25: UserWarning: pandas only supports SQLAlchemy connectable (engine/connection) or database string URI or sqlite3 DBAPI2 connection. Other DBAPI2 objects are not tested. Please consider using SQLAlchemy.\n",
      "  fact_df = pd.read_sql(fact_query, source_conn)\n"
     ]
    },
    {
     "name": "stdout",
     "output_type": "stream",
     "text": [
      "📊 Extracted 30777 order records\n"
     ]
    }
   ],
   "source": [
    "# Extract order data with all required fields\n",
    "fact_query = \"\"\"\n",
    "SELECT \n",
    "    o.order_id,\n",
    "    o.customer_id,\n",
    "    ol.book_id,\n",
    "    o.shipping_method_id,\n",
    "    DATE(o.order_date) AS order_date,\n",
    "    os.status_value AS order_status,\n",
    "    ol.price,\n",
    "    sm.cost AS shipping_cost,\n",
    "    1 AS quantity  # Assuming 1 quantity per line item\n",
    "FROM gravity_books.cust_order o\n",
    "JOIN gravity_books.order_line ol ON o.order_id = ol.order_id\n",
    "JOIN gravity_books.order_history oh ON o.order_id = oh.order_id\n",
    "JOIN gravity_books.order_status os ON oh.status_id = os.status_id\n",
    "JOIN gravity_books.shipping_method sm ON o.shipping_method_id = sm.method_id\n",
    "WHERE oh.status_date = (\n",
    "    SELECT MAX(status_date) \n",
    "    FROM gravity_books.order_history \n",
    "    WHERE order_id = oh.order_id\n",
    ")\n",
    "\"\"\"\n",
    "\n",
    "fact_df = pd.read_sql(fact_query, source_conn)\n",
    "print(f\"📊 Extracted {len(fact_df)} order records\")"
   ]
  },
  {
   "cell_type": "markdown",
   "id": "35bce43b",
   "metadata": {},
   "source": [
    " ### Transform Data"
   ]
  },
  {
   "cell_type": "markdown",
   "id": "16fa095a",
   "metadata": {},
   "source": [
    "#### Add data warehouse metadata"
   ]
  },
  {
   "cell_type": "code",
   "execution_count": 11,
   "id": "8789db31",
   "metadata": {},
   "outputs": [],
   "source": [
    "def add_warehouse_metadata(df):\n",
    "    \"\"\"Add SCD and source system fields\"\"\"\n",
    "    df['source_system_code'] = 1  # Assuming source system 1\n",
    "    df['start_date'] = pd.to_datetime('now')\n",
    "    df['end_date'] = None\n",
    "    df['is_current'] = 1\n",
    "    return df\n",
    "\n",
    "# Transform customers\n",
    "customer_df = add_warehouse_metadata(customer_df)\n",
    "customer_df = customer_df.rename(columns={'customer_id': 'customer_id_BK'})\n",
    "\n",
    "# Transform books\n",
    "book_df = add_warehouse_metadata(book_df)\n",
    "book_df = book_df.rename(columns={'book_id': 'book_id_BK'})"
   ]
  },
  {
   "cell_type": "markdown",
   "id": "02560232",
   "metadata": {},
   "source": [
    " #### Transform data to dimcustomer and dimbook"
   ]
  },
  {
   "cell_type": "code",
   "execution_count": 17,
   "id": "f2e3a5fe",
   "metadata": {},
   "outputs": [],
   "source": [
    "from sqlalchemy import create_engine\n",
    "import pandas as pd\n",
    "\n",
    "# Create SQLAlchemy engine for MySQL\n",
    "target_engine = create_engine(\n",
    "    f\"mysql+mysqlconnector://{config['target']['user']}:{config['target']['password']}@\"\n",
    "    f\"{config['target']['host']}/{config['target']['database']}\"\n",
    ")"
   ]
  },
  {
   "cell_type": "code",
   "execution_count": 28,
   "id": "ea3096af",
   "metadata": {},
   "outputs": [],
   "source": [
    "customer_df['source_system_code'] = 1\n",
    "customer_df['start_date'] = pd.to_datetime('now')\n",
    "customer_df['end_date'] = None\n",
    "customer_df['is_current'] = 1"
   ]
  },
  {
   "cell_type": "markdown",
   "id": "d320f1ea",
   "metadata": {},
   "source": [
    "##### Get Dimension Mappings"
   ]
  },
  {
   "cell_type": "code",
   "execution_count": 29,
   "id": "f77feef2",
   "metadata": {},
   "outputs": [],
   "source": [
    "# Get all dimension mappings from data warehouse\n",
    "dim_maps = {\n",
    "    'customer': pd.read_sql(\"SELECT customer_id_SK, customer_id_BK FROM dimcustomer\", target_engine),\n",
    "    'book': pd.read_sql(\"SELECT book_id_SK, book_id_BK FROM dimbook\", target_engine),\n",
    "    'method': pd.read_sql(\"SELECT method_id_SK, method_id_BK FROM dimordermethod\", target_engine),\n",
    "    'date': pd.read_sql(\"SELECT date_id_SK, full_date FROM dimdate\", target_engine)\n",
    "}"
   ]
  },
  {
   "cell_type": "markdown",
   "id": "96a291a4",
   "metadata": {},
   "source": [
    "#### Transform fact table data"
   ]
  },
  {
   "cell_type": "code",
   "execution_count": 30,
   "id": "bd23fcd0",
   "metadata": {},
   "outputs": [
    {
     "name": "stdout",
     "output_type": "stream",
     "text": [
      "Transformed fact table columns: ['order_id_BK', 'customer_id_SK', 'book_id_SK', 'method_id_SK', 'order_date_SK', 'order_status', 'price', 'shipping_cost', 'quantity', 'source_system_code', 'created_at']\n"
     ]
    }
   ],
   "source": [
    "# Merge with dimension tables to get surrogate keys\n",
    "fact_df = fact_df.merge(dim_maps['customer'], left_on='customer_id', right_on='customer_id_BK')\n",
    "fact_df = fact_df.merge(dim_maps['book'], left_on='book_id', right_on='book_id_BK')\n",
    "fact_df = fact_df.merge(dim_maps['method'], left_on='shipping_method_id', right_on='method_id_BK')\n",
    "fact_df = fact_df.merge(dim_maps['date'], left_on='order_date', right_on='full_date')\n",
    "\n",
    "# Select and rename columns for fact table\n",
    "fact_df = fact_df[[\n",
    "    'order_id', 'customer_id_SK', 'book_id_SK',\n",
    "    'method_id_SK', 'date_id_SK', 'order_status',\n",
    "    'price', 'shipping_cost', 'quantity'\n",
    "]]\n",
    "\n",
    "fact_df.columns = [\n",
    "    'order_id_BK', 'customer_id_SK', 'book_id_SK',\n",
    "    'method_id_SK', 'order_date_SK', 'order_status',\n",
    "    'price', 'shipping_cost', 'quantity'\n",
    "]\n",
    "\n",
    "# Add metadata\n",
    "fact_df['source_system_code'] = 1\n",
    "fact_df['created_at'] = pd.to_datetime('now')\n",
    "\n",
    "print(\"Transformed fact table columns:\", fact_df.columns.tolist())"
   ]
  },
  {
   "cell_type": "markdown",
   "id": "fcba1003",
   "metadata": {},
   "source": [
    "## Load Data into Warehouse"
   ]
  },
  {
   "cell_type": "markdown",
   "id": "5edd1f9b",
   "metadata": {},
   "source": [
    "#### Load Customers to dimcustomer"
   ]
  },
  {
   "cell_type": "code",
   "execution_count": 21,
   "id": "3e0ecd60",
   "metadata": {},
   "outputs": [
    {
     "name": "stdout",
     "output_type": "stream",
     "text": [
      "✅ Loaded 3350 customers\n"
     ]
    }
   ],
   "source": [
    "# Load with SQLAlchemy engine\n",
    "customer_df.to_sql(\n",
    "    name='dimcustomer',\n",
    "    con=target_engine,\n",
    "    if_exists='append',\n",
    "    index=False,\n",
    "    chunksize=1000  # Better for large datasets\n",
    ")\n",
    "print(f\"✅ Loaded {len(customer_df)} customers\")"
   ]
  },
  {
   "cell_type": "markdown",
   "id": "4ce17d2f",
   "metadata": {},
   "source": [
    "#### Loading to dimbook"
   ]
  },
  {
   "cell_type": "code",
   "execution_count": 23,
   "id": "754d4043",
   "metadata": {},
   "outputs": [
    {
     "name": "stdout",
     "output_type": "stream",
     "text": [
      "✅ Loaded 11127 books\n"
     ]
    }
   ],
   "source": [
    "book_df.to_sql(\n",
    "    name='dimbook',\n",
    "    con=target_engine,\n",
    "    if_exists='append',\n",
    "    index=False,\n",
    "    chunksize=1000\n",
    ")\n",
    "print(f\"✅ Loaded {len(book_df)} books\")"
   ]
  },
  {
   "cell_type": "markdown",
   "id": "d0b5cf1b",
   "metadata": {},
   "source": [
    "#### Loading to dimdate"
   ]
  },
  {
   "cell_type": "code",
   "execution_count": 24,
   "id": "d9523fa0",
   "metadata": {},
   "outputs": [
    {
     "name": "stdout",
     "output_type": "stream",
     "text": [
      "✅ Loaded 1096 date records\n"
     ]
    }
   ],
   "source": [
    "# Load to data warehouse\n",
    "date_df.to_sql(\n",
    "    name='dimdate',\n",
    "    con=target_engine,\n",
    "    if_exists='append',\n",
    "    index=False\n",
    ")\n",
    "print(f\"✅ Loaded {len(date_df)} date records\")"
   ]
  },
  {
   "cell_type": "markdown",
   "id": "6f799eb2-71ff-4b89-aff8-e0cb86ff6d9b",
   "metadata": {},
   "source": [
    "#### Loading to dimordermethod"
   ]
  },
  {
   "cell_type": "code",
   "execution_count": 25,
   "id": "4ee3b147",
   "metadata": {},
   "outputs": [
    {
     "name": "stdout",
     "output_type": "stream",
     "text": [
      "✅ Successfully loaded 4 order method records\n"
     ]
    }
   ],
   "source": [
    "# Load with SQLAlchemy types\n",
    "method_df.to_sql(\n",
    "    name='dimordermethod',\n",
    "    con=target_engine,\n",
    "    if_exists='append',\n",
    "    index=False,\n",
    "    chunksize=1000,\n",
    "    dtype={\n",
    "        'method_id_BK': Integer(),\n",
    "        'method_name': String(100),\n",
    "        'source_system_code': SmallInteger(),\n",
    "        'start_date': DateTime(),\n",
    "        'end_date': DateTime(),\n",
    "        'is_current': SmallInteger()\n",
    "    }\n",
    ")\n",
    "print(f\"✅ Successfully loaded {len(method_df)} order method records\")"
   ]
  },
  {
   "cell_type": "markdown",
   "id": "908d4de7",
   "metadata": {},
   "source": [
    "#### Loading to dimfactorder"
   ]
  },
  {
   "cell_type": "code",
   "execution_count": 31,
   "id": "125bc882",
   "metadata": {},
   "outputs": [
    {
     "name": "stdout",
     "output_type": "stream",
     "text": [
      "✅ Successfully loaded 63801 fact records\n"
     ]
    }
   ],
   "source": [
    "from sqlalchemy import Integer, Numeric, String, DateTime, SmallInteger\n",
    "\n",
    "# Load fact table with proper data types\n",
    "fact_df.to_sql(\n",
    "    name='factorder',\n",
    "    con=target_engine,\n",
    "    if_exists='append',\n",
    "    index=False,\n",
    "    chunksize=1000,\n",
    "    dtype={\n",
    "        'order_id_BK': Integer(),\n",
    "        'customer_id_SK': Integer(),\n",
    "        'book_id_SK': Integer(),\n",
    "        'method_id_SK': Integer(),\n",
    "        'order_date_SK': Integer(),\n",
    "        'order_status': String(50),\n",
    "        'price': Numeric(10,2),\n",
    "        'shipping_cost': Numeric(10,2),\n",
    "        'quantity': Integer(),\n",
    "        'source_system_code': SmallInteger(),\n",
    "        'created_at': DateTime()\n",
    "    }\n",
    ")\n",
    "print(f\"✅ Successfully loaded {len(fact_df)} fact records\")"
   ]
  },
  {
   "cell_type": "code",
   "execution_count": null,
   "id": "5c5ff691",
   "metadata": {},
   "outputs": [],
   "source": []
  }
 ],
 "metadata": {
  "kernelspec": {
   "display_name": "Python 3 (ipykernel)",
   "language": "python",
   "name": "python3"
  },
  "language_info": {
   "codemirror_mode": {
    "name": "ipython",
    "version": 3
   },
   "file_extension": ".py",
   "mimetype": "text/x-python",
   "name": "python",
   "nbconvert_exporter": "python",
   "pygments_lexer": "ipython3",
   "version": "3.12.7"
  }
 },
 "nbformat": 4,
 "nbformat_minor": 5
}
