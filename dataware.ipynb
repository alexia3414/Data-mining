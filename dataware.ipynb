{
 "cells": [
  {
   "cell_type": "markdown",
   "id": "b28182a8-bbf1-4142-97a1-6d2f400a1dd0",
   "metadata": {},
   "source": [
    "Extract the first file from GitHub"
   ]
  },
  {
   "cell_type": "code",
   "execution_count": null,
   "id": "b4b37070-ffcc-4884-95fe-47db37b62935",
   "metadata": {},
   "outputs": [],
   "source": [
    "import pandas as pd\n",
    "import sqlite3"
   ]
  },
  {
   "cell_type": "code",
   "execution_count": null,
   "id": "ecb111cd-a4ae-41e4-acbd-69fe26665259",
   "metadata": {},
   "outputs": [],
   "source": [
    "csv_url =\"https://raw.githubusercontent.com/alexia3414/Data-mining/refs/heads/main/diabetes.csv\"\n",
    "data = pd.read_csv(csv_url)\n",
    "data.head()\n"
   ]
  },
  {
   "cell_type": "code",
   "execution_count": null,
   "id": "3603f110-ee42-465d-8cb2-14bac0642022",
   "metadata": {},
   "outputs": [],
   "source": [
    "data.info"
   ]
  },
  {
   "cell_type": "markdown",
   "id": "9e71a539-2c2d-4629-a2fa-b87b314645fa",
   "metadata": {},
   "source": [
    "### Extract the second file from Archive"
   ]
  },
  {
   "cell_type": "code",
   "execution_count": null,
   "id": "f341b00b-5d74-4f78-b60d-04ec6e83e6ac",
   "metadata": {},
   "outputs": [],
   "source": [
    "# URL of the dataset\n",
    "csv_url =\"https://raw.githubusercontent.com/alexia3414/Data-mining/refs/heads/main/heart.csv\"\n",
    "df_before = pd.read_csv(csv_url)\n",
    "df_before.head()"
   ]
  },
  {
   "cell_type": "code",
   "execution_count": null,
   "id": "768806b6-6d20-4c10-a9a0-5801661a8316",
   "metadata": {},
   "outputs": [],
   "source": [
    "diabetes.isnull().sum()"
   ]
  },
  {
   "cell_type": "code",
   "execution_count": null,
   "id": "2699e3fd-ea71-44b4-b95f-1dd49f44d9f5",
   "metadata": {},
   "outputs": [],
   "source": []
  },
  {
   "cell_type": "code",
   "execution_count": null,
   "id": "a797ae1d-22b9-4048-ab0d-82e150529853",
   "metadata": {},
   "outputs": [],
   "source": []
  }
 ],
 "metadata": {
  "kernelspec": {
   "display_name": "Python 3 (ipykernel)",
   "language": "python",
   "name": "python3"
  },
  "language_info": {
   "codemirror_mode": {
    "name": "ipython",
    "version": 3
   },
   "file_extension": ".py",
   "mimetype": "text/x-python",
   "name": "python",
   "nbconvert_exporter": "python",
   "pygments_lexer": "ipython3",
   "version": "3.12.7"
  }
 },
 "nbformat": 4,
 "nbformat_minor": 5
}
