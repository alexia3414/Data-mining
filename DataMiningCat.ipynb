{
 "cells": [
  {
   "cell_type": "code",
   "execution_count": 4,
   "id": "6cef69c3-f6a4-4339-b220-bbbc7e74d0dd",
   "metadata": {},
   "outputs": [
    {
     "name": "stdout",
     "output_type": "stream",
     "text": [
      "Defaulting to user installation because normal site-packages is not writeable\n",
      "Requirement already satisfied: sqlalchemy in c:\\program files\\anaconda\\1\\lib\\site-packages (2.0.34)\n",
      "Requirement already satisfied: pyodbc in c:\\program files\\anaconda\\1\\lib\\site-packages (5.1.0)\n",
      "Requirement already satisfied: typing-extensions>=4.6.0 in c:\\program files\\anaconda\\1\\lib\\site-packages (from sqlalchemy) (4.11.0)\n",
      "Requirement already satisfied: greenlet!=0.4.17 in c:\\program files\\anaconda\\1\\lib\\site-packages (from sqlalchemy) (3.0.1)\n"
     ]
    }
   ],
   "source": [
    "!pip install  sqlalchemy pyodbc"
   ]
  },
  {
   "cell_type": "markdown",
   "id": "25e7a857-7b94-4b32-9f5c-a784363e4100",
   "metadata": {},
   "source": [
    "# Data Extraction"
   ]
  },
  {
   "cell_type": "markdown",
   "id": "877abe73-ac5e-43ba-adee-b37451c49a76",
   "metadata": {},
   "source": [
    "# •\tExtraction Tools:\n",
    "## SQL Server Integration Services (SSIS) for data extraction.\n"
   ]
  },
  {
   "cell_type": "markdown",
   "id": "620d59a9-25c6-437a-89d3-332a800b9f66",
   "metadata": {},
   "source": [
    "## Data from Source Tables Database (gravity_books)\n",
    "### Database Connection\n"
   ]
  },
  {
   "cell_type": "code",
   "execution_count": 5,
   "id": "3c233781-6a43-421b-85e8-0ebbb14b149e",
   "metadata": {},
   "outputs": [],
   "source": [
    "import pyodbc\n",
    "import pandas as pd\n",
    "from datetime import datetime\n",
    "import warnings\n",
    "warnings.filterwarnings(\"ignore\", category=UserWarning, message=\"pandas only supports SQLAlchemy connectable\")"
   ]
  },
  {
   "cell_type": "code",
   "execution_count": 12,
   "id": "64df11b7-66a0-4a0f-909c-62e14671be64",
   "metadata": {},
   "outputs": [
    {
     "name": "stdout",
     "output_type": "stream",
     "text": [
      "✅ Connected to SQL Server successfully using Windows Authentication!\n"
     ]
    }
   ],
   "source": [
    "#conn = pyodbc.connect(\"DRIVER={ODBC Driver 17 for SQL Server};SERVER=DESKTOP-MF69IV4\\\\SQLEXPRESS;DATABASE=gravity_books;Trusted_Connection=yes\")\n",
    "cursor = conn.cursor()\n",
    "server = r'DESKTOP-1VUSDJU'  # Correct the server name (if needed)\n",
    "database = 'Store_books'\n",
    "username = 'DESKTOP-1VUSDJU\\\\user'     # Escape the backslash properly\n",
    "password = ''  # Empty, as Windows Authentication doesn't need a password here\n",
    "\n",
    "# Using Windows Authentication\n",
    "try:\n",
    "    conn = pyodbc.connect(f'DRIVER={{ODBC Driver 17 for SQL Server}};'\n",
    "                          f'SERVER={server};'\n",
    "                          f'DATABASE={database};'\n",
    "                          f'Trusted_Connection=yes;')\n",
    "    print(\"✅ Connected to SQL Server successfully using Windows Authentication!\")\n",
    "except pyodbc.Error as e:\n",
    "    print(\"❌ Error connecting to SQL Server:\", e)\n"
   ]
  },
  {
   "cell_type": "markdown",
   "id": "b75a8883-e848-4829-8082-e6335d137176",
   "metadata": {},
   "source": [
    "## Data from author table"
   ]
  },
  {
   "cell_type": "code",
   "execution_count": 13,
   "id": "8b5bf672-5c50-4072-8d3b-e533b6cae4d7",
   "metadata": {},
   "outputs": [
    {
     "data": {
      "text/html": [
       "<div>\n",
       "<style scoped>\n",
       "    .dataframe tbody tr th:only-of-type {\n",
       "        vertical-align: middle;\n",
       "    }\n",
       "\n",
       "    .dataframe tbody tr th {\n",
       "        vertical-align: top;\n",
       "    }\n",
       "\n",
       "    .dataframe thead th {\n",
       "        text-align: right;\n",
       "    }\n",
       "</style>\n",
       "<table border=\"1\" class=\"dataframe\">\n",
       "  <thead>\n",
       "    <tr style=\"text-align: right;\">\n",
       "      <th></th>\n",
       "      <th>Author_ID</th>\n",
       "      <th>Name</th>\n",
       "    </tr>\n",
       "  </thead>\n",
       "  <tbody>\n",
       "    <tr>\n",
       "      <th>0</th>\n",
       "      <td>1</td>\n",
       "      <td>A. Bartlett Giamatti</td>\n",
       "    </tr>\n",
       "    <tr>\n",
       "      <th>1</th>\n",
       "      <td>2</td>\n",
       "      <td>A. Elizabeth Delany</td>\n",
       "    </tr>\n",
       "    <tr>\n",
       "      <th>2</th>\n",
       "      <td>3</td>\n",
       "      <td>A. Merritt</td>\n",
       "    </tr>\n",
       "    <tr>\n",
       "      <th>3</th>\n",
       "      <td>4</td>\n",
       "      <td>A. Roger Merrill</td>\n",
       "    </tr>\n",
       "    <tr>\n",
       "      <th>4</th>\n",
       "      <td>5</td>\n",
       "      <td>A. Walton Litz</td>\n",
       "    </tr>\n",
       "    <tr>\n",
       "      <th>...</th>\n",
       "      <td>...</td>\n",
       "      <td>...</td>\n",
       "    </tr>\n",
       "    <tr>\n",
       "      <th>9230</th>\n",
       "      <td>9231</td>\n",
       "      <td>?? ???</td>\n",
       "    </tr>\n",
       "    <tr>\n",
       "      <th>9231</th>\n",
       "      <td>9232</td>\n",
       "      <td>?????</td>\n",
       "    </tr>\n",
       "    <tr>\n",
       "      <th>9232</th>\n",
       "      <td>9233</td>\n",
       "      <td>????</td>\n",
       "    </tr>\n",
       "    <tr>\n",
       "      <th>9233</th>\n",
       "      <td>9234</td>\n",
       "      <td>???</td>\n",
       "    </tr>\n",
       "    <tr>\n",
       "      <th>9234</th>\n",
       "      <td>9235</td>\n",
       "      <td>???</td>\n",
       "    </tr>\n",
       "  </tbody>\n",
       "</table>\n",
       "<p>9235 rows × 2 columns</p>\n",
       "</div>"
      ],
      "text/plain": [
       "      Author_ID                  Name\n",
       "0             1  A. Bartlett Giamatti\n",
       "1             2   A. Elizabeth Delany\n",
       "2             3            A. Merritt\n",
       "3             4      A. Roger Merrill\n",
       "4             5        A. Walton Litz\n",
       "...         ...                   ...\n",
       "9230       9231                ?? ???\n",
       "9231       9232                 ?????\n",
       "9232       9233                  ????\n",
       "9233       9234                   ???\n",
       "9234       9235                   ???\n",
       "\n",
       "[9235 rows x 2 columns]"
      ]
     },
     "execution_count": 13,
     "metadata": {},
     "output_type": "execute_result"
    }
   ],
   "source": [
    "cursor.execute(\"SELECT * FROM author\")\n",
    "rows = cursor.fetchall()\n",
    "data = [list(row) for row in rows]\n",
    "\n",
    "author_column_names = [column[0] for column in cursor.description]\n",
    "# Define your own column names\n",
    "custom_column_names = [\"Author_ID\", \"Name\"]\n",
    "\n",
    "# Create a Pandas DataFrame with your custom column names\n",
    "Data = pd.DataFrame(data, columns=custom_column_names)\n",
    "\n",
    "Data"
   ]
  },
  {
   "cell_type": "markdown",
   "id": "1eecb729-47a3-4b92-95cb-46fdfdba23dd",
   "metadata": {},
   "source": [
    "## Data from book table"
   ]
  },
  {
   "cell_type": "code",
   "execution_count": 14,
   "id": "4fd3ff3d-dfbc-4d61-b113-813ef9e1ac40",
   "metadata": {},
   "outputs": [
    {
     "data": {
      "text/html": [
       "<div>\n",
       "<style scoped>\n",
       "    .dataframe tbody tr th:only-of-type {\n",
       "        vertical-align: middle;\n",
       "    }\n",
       "\n",
       "    .dataframe tbody tr th {\n",
       "        vertical-align: top;\n",
       "    }\n",
       "\n",
       "    .dataframe thead th {\n",
       "        text-align: right;\n",
       "    }\n",
       "</style>\n",
       "<table border=\"1\" class=\"dataframe\">\n",
       "  <thead>\n",
       "    <tr style=\"text-align: right;\">\n",
       "      <th></th>\n",
       "      <th>book_id</th>\n",
       "      <th>title</th>\n",
       "      <th>isbn13</th>\n",
       "      <th>language_id</th>\n",
       "      <th>num_pages</th>\n",
       "      <th>publication_date</th>\n",
       "      <th>publisher_id</th>\n",
       "    </tr>\n",
       "  </thead>\n",
       "  <tbody>\n",
       "    <tr>\n",
       "      <th>0</th>\n",
       "      <td>1</td>\n",
       "      <td>The World's First Love: Mary  Mother of God</td>\n",
       "      <td>8987059752</td>\n",
       "      <td>2</td>\n",
       "      <td>276</td>\n",
       "      <td>1996-09-01</td>\n",
       "      <td>1010</td>\n",
       "    </tr>\n",
       "    <tr>\n",
       "      <th>1</th>\n",
       "      <td>2</td>\n",
       "      <td>The Illuminati</td>\n",
       "      <td>20049130001</td>\n",
       "      <td>1</td>\n",
       "      <td>352</td>\n",
       "      <td>2004-10-04</td>\n",
       "      <td>1967</td>\n",
       "    </tr>\n",
       "    <tr>\n",
       "      <th>2</th>\n",
       "      <td>3</td>\n",
       "      <td>The Servant Leader</td>\n",
       "      <td>23755004321</td>\n",
       "      <td>1</td>\n",
       "      <td>128</td>\n",
       "      <td>2003-03-11</td>\n",
       "      <td>1967</td>\n",
       "    </tr>\n",
       "    <tr>\n",
       "      <th>3</th>\n",
       "      <td>4</td>\n",
       "      <td>What Life Was Like in the Jewel in the Crown: ...</td>\n",
       "      <td>34406054602</td>\n",
       "      <td>1</td>\n",
       "      <td>168</td>\n",
       "      <td>1999-09-01</td>\n",
       "      <td>1978</td>\n",
       "    </tr>\n",
       "    <tr>\n",
       "      <th>4</th>\n",
       "      <td>5</td>\n",
       "      <td>Cliffs Notes on Aristophanes' Lysistrata  The ...</td>\n",
       "      <td>49086007763</td>\n",
       "      <td>1</td>\n",
       "      <td>80</td>\n",
       "      <td>1983-12-29</td>\n",
       "      <td>416</td>\n",
       "    </tr>\n",
       "    <tr>\n",
       "      <th>...</th>\n",
       "      <td>...</td>\n",
       "      <td>...</td>\n",
       "      <td>...</td>\n",
       "      <td>...</td>\n",
       "      <td>...</td>\n",
       "      <td>...</td>\n",
       "      <td>...</td>\n",
       "    </tr>\n",
       "    <tr>\n",
       "      <th>11122</th>\n",
       "      <td>11123</td>\n",
       "      <td>Asfixia</td>\n",
       "      <td>9789875661707</td>\n",
       "      <td>1</td>\n",
       "      <td>336</td>\n",
       "      <td>2006-09-01</td>\n",
       "      <td>511</td>\n",
       "    </tr>\n",
       "    <tr>\n",
       "      <th>11123</th>\n",
       "      <td>11124</td>\n",
       "      <td>El Dia Que Nietzsche Lloró</td>\n",
       "      <td>9789875801448</td>\n",
       "      <td>4</td>\n",
       "      <td>445</td>\n",
       "      <td>2006-10-24</td>\n",
       "      <td>1548</td>\n",
       "    </tr>\n",
       "    <tr>\n",
       "      <th>11124</th>\n",
       "      <td>11125</td>\n",
       "      <td>Fantasmas</td>\n",
       "      <td>9789879397503</td>\n",
       "      <td>4</td>\n",
       "      <td>442</td>\n",
       "      <td>2006-08-28</td>\n",
       "      <td>1284</td>\n",
       "    </tr>\n",
       "    <tr>\n",
       "      <th>11125</th>\n",
       "      <td>11126</td>\n",
       "      <td>Stand by Me</td>\n",
       "      <td>9789998691568</td>\n",
       "      <td>1</td>\n",
       "      <td>96</td>\n",
       "      <td>1986-06-01</td>\n",
       "      <td>430</td>\n",
       "    </tr>\n",
       "    <tr>\n",
       "      <th>11126</th>\n",
       "      <td>11127</td>\n",
       "      <td>The Great Divorce</td>\n",
       "      <td>9790007672386</td>\n",
       "      <td>1</td>\n",
       "      <td>160</td>\n",
       "      <td>2002-02-01</td>\n",
       "      <td>882</td>\n",
       "    </tr>\n",
       "  </tbody>\n",
       "</table>\n",
       "<p>11127 rows × 7 columns</p>\n",
       "</div>"
      ],
      "text/plain": [
       "       book_id                                              title  \\\n",
       "0            1        The World's First Love: Mary  Mother of God   \n",
       "1            2                                     The Illuminati   \n",
       "2            3                                 The Servant Leader   \n",
       "3            4  What Life Was Like in the Jewel in the Crown: ...   \n",
       "4            5  Cliffs Notes on Aristophanes' Lysistrata  The ...   \n",
       "...        ...                                                ...   \n",
       "11122    11123                                            Asfixia   \n",
       "11123    11124                         El Dia Que Nietzsche Lloró   \n",
       "11124    11125                                          Fantasmas   \n",
       "11125    11126                                        Stand by Me   \n",
       "11126    11127                                  The Great Divorce   \n",
       "\n",
       "              isbn13  language_id  num_pages publication_date  publisher_id  \n",
       "0         8987059752            2        276       1996-09-01          1010  \n",
       "1        20049130001            1        352       2004-10-04          1967  \n",
       "2        23755004321            1        128       2003-03-11          1967  \n",
       "3        34406054602            1        168       1999-09-01          1978  \n",
       "4        49086007763            1         80       1983-12-29           416  \n",
       "...              ...          ...        ...              ...           ...  \n",
       "11122  9789875661707            1        336       2006-09-01           511  \n",
       "11123  9789875801448            4        445       2006-10-24          1548  \n",
       "11124  9789879397503            4        442       2006-08-28          1284  \n",
       "11125  9789998691568            1         96       1986-06-01           430  \n",
       "11126  9790007672386            1        160       2002-02-01           882  \n",
       "\n",
       "[11127 rows x 7 columns]"
      ]
     },
     "execution_count": 14,
     "metadata": {},
     "output_type": "execute_result"
    }
   ],
   "source": [
    "cursor.execute(\"SELECT * FROM book\")\n",
    "rows = cursor.fetchall()\n",
    "data = [list(row) for row in rows]\n",
    "\n",
    "book_column_names = [column[0] for column in cursor.description]\n",
    "# Define your own column names\n",
    "custom_column_names = ['book_id', 'title', 'isbn13', 'language_id', 'num_pages', 'publication_date', 'publisher_id']\n",
    "\n",
    "# Create a Pandas DataFrame with your custom column names\n",
    "BookData = pd.DataFrame(data, columns=custom_column_names)\n",
    "\n",
    "BookData"
   ]
  },
  {
   "cell_type": "markdown",
   "id": "84163b28-9c55-49fd-b193-a612c9699582",
   "metadata": {},
   "source": [
    "## Data from address table"
   ]
  },
  {
   "cell_type": "code",
   "execution_count": 15,
   "id": "155529b9-f87c-4fe6-9b10-4b23af424f46",
   "metadata": {},
   "outputs": [
    {
     "data": {
      "text/html": [
       "<div>\n",
       "<style scoped>\n",
       "    .dataframe tbody tr th:only-of-type {\n",
       "        vertical-align: middle;\n",
       "    }\n",
       "\n",
       "    .dataframe tbody tr th {\n",
       "        vertical-align: top;\n",
       "    }\n",
       "\n",
       "    .dataframe thead th {\n",
       "        text-align: right;\n",
       "    }\n",
       "</style>\n",
       "<table border=\"1\" class=\"dataframe\">\n",
       "  <thead>\n",
       "    <tr style=\"text-align: right;\">\n",
       "      <th></th>\n",
       "      <th>address_id</th>\n",
       "      <th>street_number</th>\n",
       "      <th>street_name</th>\n",
       "      <th>city</th>\n",
       "      <th>country_id</th>\n",
       "    </tr>\n",
       "  </thead>\n",
       "  <tbody>\n",
       "    <tr>\n",
       "      <th>0</th>\n",
       "      <td>1</td>\n",
       "      <td>57</td>\n",
       "      <td>Glacier Hill Avenue</td>\n",
       "      <td>Torbat-e Jam</td>\n",
       "      <td>95</td>\n",
       "    </tr>\n",
       "    <tr>\n",
       "      <th>1</th>\n",
       "      <td>2</td>\n",
       "      <td>86</td>\n",
       "      <td>Dottie Junction</td>\n",
       "      <td>Beaumont</td>\n",
       "      <td>37</td>\n",
       "    </tr>\n",
       "    <tr>\n",
       "      <th>2</th>\n",
       "      <td>3</td>\n",
       "      <td>292</td>\n",
       "      <td>Ramsey Avenue</td>\n",
       "      <td>Cayambe</td>\n",
       "      <td>60</td>\n",
       "    </tr>\n",
       "    <tr>\n",
       "      <th>3</th>\n",
       "      <td>4</td>\n",
       "      <td>5618</td>\n",
       "      <td>Thackeray Junction</td>\n",
       "      <td>Caldas</td>\n",
       "      <td>47</td>\n",
       "    </tr>\n",
       "    <tr>\n",
       "      <th>4</th>\n",
       "      <td>5</td>\n",
       "      <td>4</td>\n",
       "      <td>2nd Park</td>\n",
       "      <td>Ngunguru</td>\n",
       "      <td>153</td>\n",
       "    </tr>\n",
       "    <tr>\n",
       "      <th>...</th>\n",
       "      <td>...</td>\n",
       "      <td>...</td>\n",
       "      <td>...</td>\n",
       "      <td>...</td>\n",
       "      <td>...</td>\n",
       "    </tr>\n",
       "    <tr>\n",
       "      <th>995</th>\n",
       "      <td>996</td>\n",
       "      <td>5</td>\n",
       "      <td>Leroy Alley</td>\n",
       "      <td>Mmaaf</td>\n",
       "      <td>92</td>\n",
       "    </tr>\n",
       "    <tr>\n",
       "      <th>996</th>\n",
       "      <td>997</td>\n",
       "      <td>24</td>\n",
       "      <td>Morningstar Junction</td>\n",
       "      <td>Jobabo</td>\n",
       "      <td>53</td>\n",
       "    </tr>\n",
       "    <tr>\n",
       "      <th>997</th>\n",
       "      <td>998</td>\n",
       "      <td>429</td>\n",
       "      <td>Autumn Leaf Parkway</td>\n",
       "      <td>Changxingbao</td>\n",
       "      <td>42</td>\n",
       "    </tr>\n",
       "    <tr>\n",
       "      <th>998</th>\n",
       "      <td>999</td>\n",
       "      <td>2</td>\n",
       "      <td>Moose Crossing</td>\n",
       "      <td>Pasararba</td>\n",
       "      <td>92</td>\n",
       "    </tr>\n",
       "    <tr>\n",
       "      <th>999</th>\n",
       "      <td>1000</td>\n",
       "      <td>503</td>\n",
       "      <td>Canary Crossing</td>\n",
       "      <td>Jiangfeng</td>\n",
       "      <td>42</td>\n",
       "    </tr>\n",
       "  </tbody>\n",
       "</table>\n",
       "<p>1000 rows × 5 columns</p>\n",
       "</div>"
      ],
      "text/plain": [
       "     address_id street_number           street_name          city  country_id\n",
       "0             1            57   Glacier Hill Avenue  Torbat-e Jam          95\n",
       "1             2            86       Dottie Junction      Beaumont          37\n",
       "2             3           292         Ramsey Avenue       Cayambe          60\n",
       "3             4          5618    Thackeray Junction        Caldas          47\n",
       "4             5             4              2nd Park      Ngunguru         153\n",
       "..          ...           ...                   ...           ...         ...\n",
       "995         996             5           Leroy Alley         Mmaaf          92\n",
       "996         997            24  Morningstar Junction        Jobabo          53\n",
       "997         998           429   Autumn Leaf Parkway  Changxingbao          42\n",
       "998         999             2        Moose Crossing     Pasararba          92\n",
       "999        1000           503       Canary Crossing     Jiangfeng          42\n",
       "\n",
       "[1000 rows x 5 columns]"
      ]
     },
     "execution_count": 15,
     "metadata": {},
     "output_type": "execute_result"
    }
   ],
   "source": [
    "cursor.execute(\"SELECT * FROM address\")\n",
    "rows = cursor.fetchall()\n",
    "data = [list(row) for row in rows]\n",
    "\n",
    "address_column_names = [column[0] for column in cursor.description]\n",
    "custom_column_names = ['address_id', 'street_number', 'street_name', 'city', 'country_id']\n",
    "\n",
    "# Create a Pandas DataFrame with your custom column names\n",
    "addressData = pd.DataFrame(data, columns=custom_column_names)\n",
    "\n",
    "addressData"
   ]
  },
  {
   "cell_type": "markdown",
   "id": "3d7d808a-8a8a-4852-b327-a14ab55d33f9",
   "metadata": {},
   "source": [
    "## Data from publisher table"
   ]
  },
  {
   "cell_type": "code",
   "execution_count": 16,
   "id": "37034436-bc4c-4cb8-9f58-be2c38b65095",
   "metadata": {},
   "outputs": [
    {
     "data": {
      "text/html": [
       "<div>\n",
       "<style scoped>\n",
       "    .dataframe tbody tr th:only-of-type {\n",
       "        vertical-align: middle;\n",
       "    }\n",
       "\n",
       "    .dataframe tbody tr th {\n",
       "        vertical-align: top;\n",
       "    }\n",
       "\n",
       "    .dataframe thead th {\n",
       "        text-align: right;\n",
       "    }\n",
       "</style>\n",
       "<table border=\"1\" class=\"dataframe\">\n",
       "  <thead>\n",
       "    <tr style=\"text-align: right;\">\n",
       "      <th></th>\n",
       "      <th>publisher_id</th>\n",
       "      <th>publisher_name</th>\n",
       "    </tr>\n",
       "  </thead>\n",
       "  <tbody>\n",
       "    <tr>\n",
       "      <th>0</th>\n",
       "      <td>1</td>\n",
       "      <td>10/18</td>\n",
       "    </tr>\n",
       "    <tr>\n",
       "      <th>1</th>\n",
       "      <td>2</td>\n",
       "      <td>1st Book Library</td>\n",
       "    </tr>\n",
       "    <tr>\n",
       "      <th>2</th>\n",
       "      <td>3</td>\n",
       "      <td>1st World Library</td>\n",
       "    </tr>\n",
       "    <tr>\n",
       "      <th>3</th>\n",
       "      <td>4</td>\n",
       "      <td>A &amp; C Black (Childrens books)</td>\n",
       "    </tr>\n",
       "    <tr>\n",
       "      <th>4</th>\n",
       "      <td>5</td>\n",
       "      <td>A Harvest Book/Harcourt Inc.</td>\n",
       "    </tr>\n",
       "    <tr>\n",
       "      <th>...</th>\n",
       "      <td>...</td>\n",
       "      <td>...</td>\n",
       "    </tr>\n",
       "    <tr>\n",
       "      <th>2259</th>\n",
       "      <td>2260</td>\n",
       "      <td>????????????</td>\n",
       "    </tr>\n",
       "    <tr>\n",
       "      <th>2260</th>\n",
       "      <td>2261</td>\n",
       "      <td>????????????</td>\n",
       "    </tr>\n",
       "    <tr>\n",
       "      <th>2261</th>\n",
       "      <td>2262</td>\n",
       "      <td>???? (Kadokawa Shoten)</td>\n",
       "    </tr>\n",
       "    <tr>\n",
       "      <th>2262</th>\n",
       "      <td>2263</td>\n",
       "      <td>???</td>\n",
       "    </tr>\n",
       "    <tr>\n",
       "      <th>2263</th>\n",
       "      <td>2264</td>\n",
       "      <td>???</td>\n",
       "    </tr>\n",
       "  </tbody>\n",
       "</table>\n",
       "<p>2264 rows × 2 columns</p>\n",
       "</div>"
      ],
      "text/plain": [
       "      publisher_id                 publisher_name\n",
       "0                1                          10/18\n",
       "1                2               1st Book Library\n",
       "2                3              1st World Library\n",
       "3                4  A & C Black (Childrens books)\n",
       "4                5   A Harvest Book/Harcourt Inc.\n",
       "...            ...                            ...\n",
       "2259          2260                   ????????????\n",
       "2260          2261                   ????????????\n",
       "2261          2262         ???? (Kadokawa Shoten)\n",
       "2262          2263                            ???\n",
       "2263          2264                            ???\n",
       "\n",
       "[2264 rows x 2 columns]"
      ]
     },
     "execution_count": 16,
     "metadata": {},
     "output_type": "execute_result"
    }
   ],
   "source": [
    "cursor.execute(\"SELECT * FROM publisher\")\n",
    "rows = cursor.fetchall()\n",
    "data = [list(row) for row in rows]\n",
    "\n",
    "publisher_column_names = [column[0] for column in cursor.description]\n",
    "publisher_column_names\n",
    "\n",
    "# Define your own column names\n",
    "custom_column_names = ['publisher_id','publisher_name']\n",
    "\n",
    "\n",
    "# Create a Pandas DataFrame with your custom column names\n",
    "PublishData = pd.DataFrame(data, columns=custom_column_names)\n",
    "\n",
    "PublishData"
   ]
  },
  {
   "cell_type": "markdown",
   "id": "c564d139-fcd5-4cb5-ba44-e288d4a9d891",
   "metadata": {},
   "source": [
    "## Data from book_language table"
   ]
  },
  {
   "cell_type": "code",
   "execution_count": 17,
   "id": "12519c6e-055b-4a77-9606-77fe628e2dd8",
   "metadata": {},
   "outputs": [
    {
     "data": {
      "text/html": [
       "<div>\n",
       "<style scoped>\n",
       "    .dataframe tbody tr th:only-of-type {\n",
       "        vertical-align: middle;\n",
       "    }\n",
       "\n",
       "    .dataframe tbody tr th {\n",
       "        vertical-align: top;\n",
       "    }\n",
       "\n",
       "    .dataframe thead th {\n",
       "        text-align: right;\n",
       "    }\n",
       "</style>\n",
       "<table border=\"1\" class=\"dataframe\">\n",
       "  <thead>\n",
       "    <tr style=\"text-align: right;\">\n",
       "      <th></th>\n",
       "      <th>language_code</th>\n",
       "      <th>language_id</th>\n",
       "      <th>language_name</th>\n",
       "    </tr>\n",
       "  </thead>\n",
       "  <tbody>\n",
       "    <tr>\n",
       "      <th>0</th>\n",
       "      <td>1</td>\n",
       "      <td>eng</td>\n",
       "      <td>English</td>\n",
       "    </tr>\n",
       "    <tr>\n",
       "      <th>1</th>\n",
       "      <td>2</td>\n",
       "      <td>en-US</td>\n",
       "      <td>United States English</td>\n",
       "    </tr>\n",
       "    <tr>\n",
       "      <th>2</th>\n",
       "      <td>3</td>\n",
       "      <td>fre</td>\n",
       "      <td>French</td>\n",
       "    </tr>\n",
       "    <tr>\n",
       "      <th>3</th>\n",
       "      <td>4</td>\n",
       "      <td>spa</td>\n",
       "      <td>Spanish</td>\n",
       "    </tr>\n",
       "    <tr>\n",
       "      <th>4</th>\n",
       "      <td>5</td>\n",
       "      <td>en-GB</td>\n",
       "      <td>British English</td>\n",
       "    </tr>\n",
       "    <tr>\n",
       "      <th>5</th>\n",
       "      <td>6</td>\n",
       "      <td>mul</td>\n",
       "      <td>Multiple Languages</td>\n",
       "    </tr>\n",
       "    <tr>\n",
       "      <th>6</th>\n",
       "      <td>7</td>\n",
       "      <td>grc</td>\n",
       "      <td>Greek</td>\n",
       "    </tr>\n",
       "    <tr>\n",
       "      <th>7</th>\n",
       "      <td>8</td>\n",
       "      <td>enm</td>\n",
       "      <td>Middle English</td>\n",
       "    </tr>\n",
       "    <tr>\n",
       "      <th>8</th>\n",
       "      <td>9</td>\n",
       "      <td>en-CA</td>\n",
       "      <td>Canadian English</td>\n",
       "    </tr>\n",
       "    <tr>\n",
       "      <th>9</th>\n",
       "      <td>10</td>\n",
       "      <td>ger</td>\n",
       "      <td>German</td>\n",
       "    </tr>\n",
       "    <tr>\n",
       "      <th>10</th>\n",
       "      <td>11</td>\n",
       "      <td>jpn</td>\n",
       "      <td>Japanese</td>\n",
       "    </tr>\n",
       "    <tr>\n",
       "      <th>11</th>\n",
       "      <td>12</td>\n",
       "      <td>ara</td>\n",
       "      <td>Arabic</td>\n",
       "    </tr>\n",
       "    <tr>\n",
       "      <th>12</th>\n",
       "      <td>13</td>\n",
       "      <td>nl</td>\n",
       "      <td>Dutch</td>\n",
       "    </tr>\n",
       "    <tr>\n",
       "      <th>13</th>\n",
       "      <td>14</td>\n",
       "      <td>zho</td>\n",
       "      <td>Chinese</td>\n",
       "    </tr>\n",
       "    <tr>\n",
       "      <th>14</th>\n",
       "      <td>15</td>\n",
       "      <td>lat</td>\n",
       "      <td>Latin</td>\n",
       "    </tr>\n",
       "    <tr>\n",
       "      <th>15</th>\n",
       "      <td>16</td>\n",
       "      <td>por</td>\n",
       "      <td>Portuguese</td>\n",
       "    </tr>\n",
       "    <tr>\n",
       "      <th>16</th>\n",
       "      <td>17</td>\n",
       "      <td>srp</td>\n",
       "      <td>Serbian</td>\n",
       "    </tr>\n",
       "    <tr>\n",
       "      <th>17</th>\n",
       "      <td>18</td>\n",
       "      <td>ita</td>\n",
       "      <td>Italian</td>\n",
       "    </tr>\n",
       "    <tr>\n",
       "      <th>18</th>\n",
       "      <td>19</td>\n",
       "      <td>rus</td>\n",
       "      <td>Russian</td>\n",
       "    </tr>\n",
       "    <tr>\n",
       "      <th>19</th>\n",
       "      <td>20</td>\n",
       "      <td>msa</td>\n",
       "      <td>Malaysian</td>\n",
       "    </tr>\n",
       "    <tr>\n",
       "      <th>20</th>\n",
       "      <td>21</td>\n",
       "      <td>glg</td>\n",
       "      <td>Galician</td>\n",
       "    </tr>\n",
       "    <tr>\n",
       "      <th>21</th>\n",
       "      <td>22</td>\n",
       "      <td>wel</td>\n",
       "      <td>Welsh</td>\n",
       "    </tr>\n",
       "    <tr>\n",
       "      <th>22</th>\n",
       "      <td>23</td>\n",
       "      <td>swe</td>\n",
       "      <td>Swedish</td>\n",
       "    </tr>\n",
       "    <tr>\n",
       "      <th>23</th>\n",
       "      <td>24</td>\n",
       "      <td>nor</td>\n",
       "      <td>Norwegian</td>\n",
       "    </tr>\n",
       "    <tr>\n",
       "      <th>24</th>\n",
       "      <td>25</td>\n",
       "      <td>tur</td>\n",
       "      <td>Turkish</td>\n",
       "    </tr>\n",
       "    <tr>\n",
       "      <th>25</th>\n",
       "      <td>26</td>\n",
       "      <td>gla</td>\n",
       "      <td>Gaelic</td>\n",
       "    </tr>\n",
       "    <tr>\n",
       "      <th>26</th>\n",
       "      <td>27</td>\n",
       "      <td>ale</td>\n",
       "      <td>Aleut</td>\n",
       "    </tr>\n",
       "  </tbody>\n",
       "</table>\n",
       "</div>"
      ],
      "text/plain": [
       "    language_code language_id          language_name\n",
       "0               1         eng                English\n",
       "1               2       en-US  United States English\n",
       "2               3         fre                 French\n",
       "3               4         spa                Spanish\n",
       "4               5       en-GB        British English\n",
       "5               6         mul     Multiple Languages\n",
       "6               7         grc                  Greek\n",
       "7               8         enm         Middle English\n",
       "8               9       en-CA       Canadian English\n",
       "9              10         ger                 German\n",
       "10             11         jpn               Japanese\n",
       "11             12         ara                 Arabic\n",
       "12             13          nl                  Dutch\n",
       "13             14         zho                Chinese\n",
       "14             15         lat                  Latin\n",
       "15             16         por             Portuguese\n",
       "16             17         srp                Serbian\n",
       "17             18         ita                Italian\n",
       "18             19         rus                Russian\n",
       "19             20         msa              Malaysian\n",
       "20             21         glg               Galician\n",
       "21             22         wel                  Welsh\n",
       "22             23         swe                Swedish\n",
       "23             24         nor              Norwegian\n",
       "24             25         tur                Turkish\n",
       "25             26         gla                 Gaelic\n",
       "26             27         ale                  Aleut"
      ]
     },
     "execution_count": 17,
     "metadata": {},
     "output_type": "execute_result"
    }
   ],
   "source": [
    "cursor.execute(\"SELECT * FROM book_language\")\n",
    "rows = cursor.fetchall()\n",
    "data = [list(row) for row in rows]\n",
    "book_language_column_names = [column[0] for column in cursor.description]\n",
    "\n",
    "# Define your own column names\n",
    "custom_column_names = ['language_code', 'language_id', 'language_name']\n",
    "\n",
    "# Create a Pandas DataFrame with your custom column names\n",
    "LanguageData = pd.DataFrame(data, columns=custom_column_names)\n",
    "\n",
    "LanguageData"
   ]
  },
  {
   "cell_type": "markdown",
   "id": "c42b19ad-ef6c-45f9-b416-a057ed71ab68",
   "metadata": {},
   "source": [
    "## Data from book_author table"
   ]
  },
  {
   "cell_type": "code",
   "execution_count": 18,
   "id": "7c6d4399-c16c-4cbb-9dc9-e389b7b026aa",
   "metadata": {},
   "outputs": [
    {
     "data": {
      "text/html": [
       "<div>\n",
       "<style scoped>\n",
       "    .dataframe tbody tr th:only-of-type {\n",
       "        vertical-align: middle;\n",
       "    }\n",
       "\n",
       "    .dataframe tbody tr th {\n",
       "        vertical-align: top;\n",
       "    }\n",
       "\n",
       "    .dataframe thead th {\n",
       "        text-align: right;\n",
       "    }\n",
       "</style>\n",
       "<table border=\"1\" class=\"dataframe\">\n",
       "  <thead>\n",
       "    <tr style=\"text-align: right;\">\n",
       "      <th></th>\n",
       "      <th>book_id</th>\n",
       "      <th>author_id</th>\n",
       "    </tr>\n",
       "  </thead>\n",
       "  <tbody>\n",
       "    <tr>\n",
       "      <th>0</th>\n",
       "      <td>1</td>\n",
       "      <td>2778</td>\n",
       "    </tr>\n",
       "    <tr>\n",
       "      <th>1</th>\n",
       "      <td>2</td>\n",
       "      <td>5049</td>\n",
       "    </tr>\n",
       "    <tr>\n",
       "      <th>2</th>\n",
       "      <td>3</td>\n",
       "      <td>4902</td>\n",
       "    </tr>\n",
       "    <tr>\n",
       "      <th>3</th>\n",
       "      <td>4</td>\n",
       "      <td>8651</td>\n",
       "    </tr>\n",
       "    <tr>\n",
       "      <th>4</th>\n",
       "      <td>5</td>\n",
       "      <td>8904</td>\n",
       "    </tr>\n",
       "    <tr>\n",
       "      <th>...</th>\n",
       "      <td>...</td>\n",
       "      <td>...</td>\n",
       "    </tr>\n",
       "    <tr>\n",
       "      <th>17637</th>\n",
       "      <td>11124</td>\n",
       "      <td>3492</td>\n",
       "    </tr>\n",
       "    <tr>\n",
       "      <th>17638</th>\n",
       "      <td>11125</td>\n",
       "      <td>1406</td>\n",
       "    </tr>\n",
       "    <tr>\n",
       "      <th>17639</th>\n",
       "      <td>11125</td>\n",
       "      <td>3889</td>\n",
       "    </tr>\n",
       "    <tr>\n",
       "      <th>17640</th>\n",
       "      <td>11126</td>\n",
       "      <td>7153</td>\n",
       "    </tr>\n",
       "    <tr>\n",
       "      <th>17641</th>\n",
       "      <td>11127</td>\n",
       "      <td>1020</td>\n",
       "    </tr>\n",
       "  </tbody>\n",
       "</table>\n",
       "<p>17642 rows × 2 columns</p>\n",
       "</div>"
      ],
      "text/plain": [
       "       book_id  author_id\n",
       "0            1       2778\n",
       "1            2       5049\n",
       "2            3       4902\n",
       "3            4       8651\n",
       "4            5       8904\n",
       "...        ...        ...\n",
       "17637    11124       3492\n",
       "17638    11125       1406\n",
       "17639    11125       3889\n",
       "17640    11126       7153\n",
       "17641    11127       1020\n",
       "\n",
       "[17642 rows x 2 columns]"
      ]
     },
     "execution_count": 18,
     "metadata": {},
     "output_type": "execute_result"
    }
   ],
   "source": [
    "cursor.execute(\"SELECT * FROM book_author\")\n",
    "rows = cursor.fetchall()\n",
    "data = [list(row) for row in rows]\n",
    "book_author_column_names = [column[0] for column in cursor.description]\n",
    "# Define your own column names\n",
    "custom_column_names = ['book_id', 'author_id']\n",
    "\n",
    "# Create a Pandas DataFrame with your custom column names\n",
    "BookData = pd.DataFrame(data, columns=custom_column_names)\n",
    "\n",
    "BookData"
   ]
  },
  {
   "cell_type": "markdown",
   "id": "f21c79e7-1741-4f43-9b1c-2149b40e8665",
   "metadata": {},
   "source": [
    "## Data from country table"
   ]
  },
  {
   "cell_type": "code",
   "execution_count": 19,
   "id": "3bb31caf-f30f-4665-a531-c6e3e7979cf3",
   "metadata": {},
   "outputs": [
    {
     "data": {
      "text/html": [
       "<div>\n",
       "<style scoped>\n",
       "    .dataframe tbody tr th:only-of-type {\n",
       "        vertical-align: middle;\n",
       "    }\n",
       "\n",
       "    .dataframe tbody tr th {\n",
       "        vertical-align: top;\n",
       "    }\n",
       "\n",
       "    .dataframe thead th {\n",
       "        text-align: right;\n",
       "    }\n",
       "</style>\n",
       "<table border=\"1\" class=\"dataframe\">\n",
       "  <thead>\n",
       "    <tr style=\"text-align: right;\">\n",
       "      <th></th>\n",
       "      <th>country_id</th>\n",
       "      <th>country_name</th>\n",
       "    </tr>\n",
       "  </thead>\n",
       "  <tbody>\n",
       "    <tr>\n",
       "      <th>0</th>\n",
       "      <td>1</td>\n",
       "      <td>Afghanistan</td>\n",
       "    </tr>\n",
       "    <tr>\n",
       "      <th>1</th>\n",
       "      <td>2</td>\n",
       "      <td>Netherlands Antilles</td>\n",
       "    </tr>\n",
       "    <tr>\n",
       "      <th>2</th>\n",
       "      <td>3</td>\n",
       "      <td>Albania</td>\n",
       "    </tr>\n",
       "    <tr>\n",
       "      <th>3</th>\n",
       "      <td>4</td>\n",
       "      <td>Algeria</td>\n",
       "    </tr>\n",
       "    <tr>\n",
       "      <th>4</th>\n",
       "      <td>5</td>\n",
       "      <td>Andorra</td>\n",
       "    </tr>\n",
       "    <tr>\n",
       "      <th>...</th>\n",
       "      <td>...</td>\n",
       "      <td>...</td>\n",
       "    </tr>\n",
       "    <tr>\n",
       "      <th>227</th>\n",
       "      <td>228</td>\n",
       "      <td>Yugoslavia</td>\n",
       "    </tr>\n",
       "    <tr>\n",
       "      <th>228</th>\n",
       "      <td>229</td>\n",
       "      <td>Zambia</td>\n",
       "    </tr>\n",
       "    <tr>\n",
       "      <th>229</th>\n",
       "      <td>230</td>\n",
       "      <td>Zimbabwe</td>\n",
       "    </tr>\n",
       "    <tr>\n",
       "      <th>230</th>\n",
       "      <td>231</td>\n",
       "      <td>Singapore</td>\n",
       "    </tr>\n",
       "    <tr>\n",
       "      <th>231</th>\n",
       "      <td>232</td>\n",
       "      <td>French Polynesia</td>\n",
       "    </tr>\n",
       "  </tbody>\n",
       "</table>\n",
       "<p>232 rows × 2 columns</p>\n",
       "</div>"
      ],
      "text/plain": [
       "     country_id          country_name\n",
       "0             1           Afghanistan\n",
       "1             2  Netherlands Antilles\n",
       "2             3               Albania\n",
       "3             4               Algeria\n",
       "4             5               Andorra\n",
       "..          ...                   ...\n",
       "227         228            Yugoslavia\n",
       "228         229                Zambia\n",
       "229         230              Zimbabwe\n",
       "230         231             Singapore\n",
       "231         232      French Polynesia\n",
       "\n",
       "[232 rows x 2 columns]"
      ]
     },
     "execution_count": 19,
     "metadata": {},
     "output_type": "execute_result"
    }
   ],
   "source": [
    "cursor.execute(\"SELECT * FROM country\")\n",
    "rows = cursor.fetchall()\n",
    "data = [list(row) for row in rows]\n",
    "\n",
    "country_column_names = [column[0] for column in cursor.description]\n",
    "\n",
    "# Define your own column names\n",
    "custom_column_names = ['country_id', 'country_name']\n",
    "\n",
    "# Create a Pandas DataFrame with your custom column names\n",
    "countryData = pd.DataFrame(data, columns=custom_column_names)\n",
    "\n",
    "countryData"
   ]
  },
  {
   "cell_type": "markdown",
   "id": "02dc445c-2b75-4561-ae50-b624bb87c012",
   "metadata": {},
   "source": [
    "## Data from customer table"
   ]
  },
  {
   "cell_type": "code",
   "execution_count": 20,
   "id": "0d6debc0-4938-4ccb-9bc9-16e2d274167e",
   "metadata": {},
   "outputs": [
    {
     "data": {
      "text/html": [
       "<div>\n",
       "<style scoped>\n",
       "    .dataframe tbody tr th:only-of-type {\n",
       "        vertical-align: middle;\n",
       "    }\n",
       "\n",
       "    .dataframe tbody tr th {\n",
       "        vertical-align: top;\n",
       "    }\n",
       "\n",
       "    .dataframe thead th {\n",
       "        text-align: right;\n",
       "    }\n",
       "</style>\n",
       "<table border=\"1\" class=\"dataframe\">\n",
       "  <thead>\n",
       "    <tr style=\"text-align: right;\">\n",
       "      <th></th>\n",
       "      <th>customer_id</th>\n",
       "      <th>first_name</th>\n",
       "      <th>last_name</th>\n",
       "      <th>email</th>\n",
       "    </tr>\n",
       "  </thead>\n",
       "  <tbody>\n",
       "    <tr>\n",
       "      <th>0</th>\n",
       "      <td>1</td>\n",
       "      <td>Ursola</td>\n",
       "      <td>Purdy</td>\n",
       "      <td>upurdy0@cdbaby.com</td>\n",
       "    </tr>\n",
       "    <tr>\n",
       "      <th>1</th>\n",
       "      <td>2</td>\n",
       "      <td>Ruthanne</td>\n",
       "      <td>Vatini</td>\n",
       "      <td>rvatini1@fema.gov</td>\n",
       "    </tr>\n",
       "    <tr>\n",
       "      <th>2</th>\n",
       "      <td>3</td>\n",
       "      <td>Reidar</td>\n",
       "      <td>Turbitt</td>\n",
       "      <td>rturbitt2@geocities.jp</td>\n",
       "    </tr>\n",
       "    <tr>\n",
       "      <th>3</th>\n",
       "      <td>4</td>\n",
       "      <td>Rich</td>\n",
       "      <td>Kirsz</td>\n",
       "      <td>rkirsz3@jalbum.net</td>\n",
       "    </tr>\n",
       "    <tr>\n",
       "      <th>4</th>\n",
       "      <td>5</td>\n",
       "      <td>Carline</td>\n",
       "      <td>Kupis</td>\n",
       "      <td>ckupis4@tamu.edu</td>\n",
       "    </tr>\n",
       "    <tr>\n",
       "      <th>...</th>\n",
       "      <td>...</td>\n",
       "      <td>...</td>\n",
       "      <td>...</td>\n",
       "      <td>...</td>\n",
       "    </tr>\n",
       "    <tr>\n",
       "      <th>1995</th>\n",
       "      <td>1996</td>\n",
       "      <td>Byron</td>\n",
       "      <td>Mayor</td>\n",
       "      <td>bmayorrn@netscape.com</td>\n",
       "    </tr>\n",
       "    <tr>\n",
       "      <th>1996</th>\n",
       "      <td>1997</td>\n",
       "      <td>Janean</td>\n",
       "      <td>Coatsworth</td>\n",
       "      <td>jcoatsworthro@purevolume.com</td>\n",
       "    </tr>\n",
       "    <tr>\n",
       "      <th>1997</th>\n",
       "      <td>1998</td>\n",
       "      <td>Georgeanna</td>\n",
       "      <td>Garman</td>\n",
       "      <td>ggarmanrp@surveymonkey.com</td>\n",
       "    </tr>\n",
       "    <tr>\n",
       "      <th>1998</th>\n",
       "      <td>1999</td>\n",
       "      <td>Ardeen</td>\n",
       "      <td>Caret</td>\n",
       "      <td>acaretrq@wsj.com</td>\n",
       "    </tr>\n",
       "    <tr>\n",
       "      <th>1999</th>\n",
       "      <td>2000</td>\n",
       "      <td>Delora</td>\n",
       "      <td>Bigglestone</td>\n",
       "      <td>dbigglestonerr@usatoday.com</td>\n",
       "    </tr>\n",
       "  </tbody>\n",
       "</table>\n",
       "<p>2000 rows × 4 columns</p>\n",
       "</div>"
      ],
      "text/plain": [
       "      customer_id  first_name    last_name                         email\n",
       "0               1      Ursola        Purdy            upurdy0@cdbaby.com\n",
       "1               2    Ruthanne       Vatini             rvatini1@fema.gov\n",
       "2               3      Reidar      Turbitt        rturbitt2@geocities.jp\n",
       "3               4        Rich        Kirsz            rkirsz3@jalbum.net\n",
       "4               5     Carline        Kupis              ckupis4@tamu.edu\n",
       "...           ...         ...          ...                           ...\n",
       "1995         1996       Byron        Mayor         bmayorrn@netscape.com\n",
       "1996         1997      Janean   Coatsworth  jcoatsworthro@purevolume.com\n",
       "1997         1998  Georgeanna       Garman    ggarmanrp@surveymonkey.com\n",
       "1998         1999      Ardeen        Caret              acaretrq@wsj.com\n",
       "1999         2000      Delora  Bigglestone   dbigglestonerr@usatoday.com\n",
       "\n",
       "[2000 rows x 4 columns]"
      ]
     },
     "execution_count": 20,
     "metadata": {},
     "output_type": "execute_result"
    }
   ],
   "source": [
    "cursor.execute(\"SELECT * FROM customer\")\n",
    "rows = cursor.fetchall()\n",
    "data = [list(row) for row in rows]\n",
    "customer_column_names = [column[0] for column in cursor.description]\n",
    "\n",
    "# Define your own column names\n",
    "custom_column_names = ['customer_id', 'first_name', 'last_name', 'email']\n",
    "\n",
    "# Create a Pandas DataFrame with your custom column names\n",
    "customerData = pd.DataFrame(data, columns=custom_column_names)\n",
    "\n",
    "customerData"
   ]
  },
  {
   "cell_type": "markdown",
   "id": "300ba641-ecdf-4e14-bade-ecc149931f09",
   "metadata": {},
   "source": [
    "## Data from customer_address table"
   ]
  },
  {
   "cell_type": "code",
   "execution_count": 21,
   "id": "fd694e94-0254-481e-8788-056a1212b379",
   "metadata": {},
   "outputs": [
    {
     "data": {
      "text/html": [
       "<div>\n",
       "<style scoped>\n",
       "    .dataframe tbody tr th:only-of-type {\n",
       "        vertical-align: middle;\n",
       "    }\n",
       "\n",
       "    .dataframe tbody tr th {\n",
       "        vertical-align: top;\n",
       "    }\n",
       "\n",
       "    .dataframe thead th {\n",
       "        text-align: right;\n",
       "    }\n",
       "</style>\n",
       "<table border=\"1\" class=\"dataframe\">\n",
       "  <thead>\n",
       "    <tr style=\"text-align: right;\">\n",
       "      <th></th>\n",
       "      <th>customer_id</th>\n",
       "      <th>address_id</th>\n",
       "      <th>status_id</th>\n",
       "    </tr>\n",
       "  </thead>\n",
       "  <tbody>\n",
       "    <tr>\n",
       "      <th>0</th>\n",
       "      <td>1</td>\n",
       "      <td>38</td>\n",
       "      <td>1</td>\n",
       "    </tr>\n",
       "    <tr>\n",
       "      <th>1</th>\n",
       "      <td>1</td>\n",
       "      <td>337</td>\n",
       "      <td>1</td>\n",
       "    </tr>\n",
       "    <tr>\n",
       "      <th>2</th>\n",
       "      <td>1</td>\n",
       "      <td>593</td>\n",
       "      <td>1</td>\n",
       "    </tr>\n",
       "    <tr>\n",
       "      <th>3</th>\n",
       "      <td>1</td>\n",
       "      <td>854</td>\n",
       "      <td>1</td>\n",
       "    </tr>\n",
       "    <tr>\n",
       "      <th>4</th>\n",
       "      <td>2</td>\n",
       "      <td>8</td>\n",
       "      <td>2</td>\n",
       "    </tr>\n",
       "    <tr>\n",
       "      <th>...</th>\n",
       "      <td>...</td>\n",
       "      <td>...</td>\n",
       "      <td>...</td>\n",
       "    </tr>\n",
       "    <tr>\n",
       "      <th>5693</th>\n",
       "      <td>1999</td>\n",
       "      <td>667</td>\n",
       "      <td>1</td>\n",
       "    </tr>\n",
       "    <tr>\n",
       "      <th>5694</th>\n",
       "      <td>1999</td>\n",
       "      <td>796</td>\n",
       "      <td>1</td>\n",
       "    </tr>\n",
       "    <tr>\n",
       "      <th>5695</th>\n",
       "      <td>1999</td>\n",
       "      <td>900</td>\n",
       "      <td>1</td>\n",
       "    </tr>\n",
       "    <tr>\n",
       "      <th>5696</th>\n",
       "      <td>2000</td>\n",
       "      <td>216</td>\n",
       "      <td>1</td>\n",
       "    </tr>\n",
       "    <tr>\n",
       "      <th>5697</th>\n",
       "      <td>2000</td>\n",
       "      <td>777</td>\n",
       "      <td>1</td>\n",
       "    </tr>\n",
       "  </tbody>\n",
       "</table>\n",
       "<p>5698 rows × 3 columns</p>\n",
       "</div>"
      ],
      "text/plain": [
       "      customer_id  address_id  status_id\n",
       "0               1          38          1\n",
       "1               1         337          1\n",
       "2               1         593          1\n",
       "3               1         854          1\n",
       "4               2           8          2\n",
       "...           ...         ...        ...\n",
       "5693         1999         667          1\n",
       "5694         1999         796          1\n",
       "5695         1999         900          1\n",
       "5696         2000         216          1\n",
       "5697         2000         777          1\n",
       "\n",
       "[5698 rows x 3 columns]"
      ]
     },
     "execution_count": 21,
     "metadata": {},
     "output_type": "execute_result"
    }
   ],
   "source": [
    "cursor.execute(\"SELECT * FROM customer_address\")\n",
    "rows = cursor.fetchall()\n",
    "data = [list(row) for row in rows]\n",
    "\n",
    "customer_address_column_names = [column[0] for column in cursor.description]\n",
    "# Define your own column names\n",
    "custom_column_names = ['customer_id', 'address_id', 'status_id']\n",
    "\n",
    "# Create a Pandas DataFrame with your custom column names\n",
    "customer_addressData = pd.DataFrame(data, columns=custom_column_names)\n",
    "\n",
    "customer_addressData"
   ]
  },
  {
   "cell_type": "markdown",
   "id": "25556457-ce9d-44c1-87a4-54ce72fbef4e",
   "metadata": {},
   "source": [
    "## Data from cust_order table"
   ]
  },
  {
   "cell_type": "code",
   "execution_count": 25,
   "id": "aa8a6a05-daac-4e9f-880b-b4077308514a",
   "metadata": {},
   "outputs": [
    {
     "data": {
      "text/html": [
       "<div>\n",
       "<style scoped>\n",
       "    .dataframe tbody tr th:only-of-type {\n",
       "        vertical-align: middle;\n",
       "    }\n",
       "\n",
       "    .dataframe tbody tr th {\n",
       "        vertical-align: top;\n",
       "    }\n",
       "\n",
       "    .dataframe thead th {\n",
       "        text-align: right;\n",
       "    }\n",
       "</style>\n",
       "<table border=\"1\" class=\"dataframe\">\n",
       "  <thead>\n",
       "    <tr style=\"text-align: right;\">\n",
       "      <th></th>\n",
       "      <th>order_id</th>\n",
       "      <th>order_date</th>\n",
       "      <th>customer_id</th>\n",
       "      <th>shipping_method_id</th>\n",
       "      <th>dest_address_id</th>\n",
       "    </tr>\n",
       "  </thead>\n",
       "  <tbody>\n",
       "  </tbody>\n",
       "</table>\n",
       "</div>"
      ],
      "text/plain": [
       "Empty DataFrame\n",
       "Columns: [order_id, order_date, customer_id, shipping_method_id, dest_address_id]\n",
       "Index: []"
      ]
     },
     "execution_count": 25,
     "metadata": {},
     "output_type": "execute_result"
    }
   ],
   "source": [
    "cursor.execute(\"SELECT * FROM cust_order\")\n",
    "rows = cursor.fetchall()\n",
    "data = [list(row) for row in rows]\n",
    "cust_order_column_names = [column[0] for column in cursor.description]\n",
    "\n",
    "# Define your own column names\n",
    "custom_column_names = ['order_id','order_date', 'customer_id', 'shipping_method_id', 'dest_address_id']\n",
    "\n",
    "# Create a Pandas DataFrame with your custom column names\n",
    "cust_orderData = pd.DataFrame(data, columns=custom_column_names)\n",
    "cust_orderData"
   ]
  },
  {
   "cell_type": "markdown",
   "id": "fa4916a9-3847-401d-a140-2e98138af903",
   "metadata": {},
   "source": [
    "## Data from order_line table"
   ]
  },
  {
   "cell_type": "code",
   "execution_count": 26,
   "id": "b0388380-375b-44d8-96fb-4a1edef57ed0",
   "metadata": {},
   "outputs": [
    {
     "data": {
      "text/html": [
       "<div>\n",
       "<style scoped>\n",
       "    .dataframe tbody tr th:only-of-type {\n",
       "        vertical-align: middle;\n",
       "    }\n",
       "\n",
       "    .dataframe tbody tr th {\n",
       "        vertical-align: top;\n",
       "    }\n",
       "\n",
       "    .dataframe thead th {\n",
       "        text-align: right;\n",
       "    }\n",
       "</style>\n",
       "<table border=\"1\" class=\"dataframe\">\n",
       "  <thead>\n",
       "    <tr style=\"text-align: right;\">\n",
       "      <th></th>\n",
       "      <th>line_id</th>\n",
       "      <th>order_id</th>\n",
       "      <th>book_id</th>\n",
       "      <th>price</th>\n",
       "    </tr>\n",
       "  </thead>\n",
       "  <tbody>\n",
       "  </tbody>\n",
       "</table>\n",
       "</div>"
      ],
      "text/plain": [
       "Empty DataFrame\n",
       "Columns: [line_id, order_id, book_id, price]\n",
       "Index: []"
      ]
     },
     "execution_count": 26,
     "metadata": {},
     "output_type": "execute_result"
    }
   ],
   "source": [
    "cursor.execute(\"SELECT * FROM order_line\")\n",
    "rows = cursor.fetchall()\n",
    "data = [list(row) for row in rows]\n",
    "\n",
    "order_line_column_names = [column[0] for column in cursor.description]\n",
    "\n",
    "# Define your own column names\n",
    "custom_column_names = ['line_id','order_id', 'book_id', 'price']\n",
    "\n",
    "# Create a Pandas DataFrame with your custom column names\n",
    "order_lineData = pd.DataFrame(data, columns=custom_column_names)\n",
    "\n",
    "order_lineData"
   ]
  },
  {
   "cell_type": "markdown",
   "id": "3ec6e84e-fc6d-456f-afba-7f2b051a280e",
   "metadata": {},
   "source": [
    "## Data from order_history table"
   ]
  },
  {
   "cell_type": "code",
   "execution_count": 27,
   "id": "21b344c4-72b6-438e-ae17-0073fa9cef9e",
   "metadata": {},
   "outputs": [
    {
     "data": {
      "text/html": [
       "<div>\n",
       "<style scoped>\n",
       "    .dataframe tbody tr th:only-of-type {\n",
       "        vertical-align: middle;\n",
       "    }\n",
       "\n",
       "    .dataframe tbody tr th {\n",
       "        vertical-align: top;\n",
       "    }\n",
       "\n",
       "    .dataframe thead th {\n",
       "        text-align: right;\n",
       "    }\n",
       "</style>\n",
       "<table border=\"1\" class=\"dataframe\">\n",
       "  <thead>\n",
       "    <tr style=\"text-align: right;\">\n",
       "      <th></th>\n",
       "      <th>history_id</th>\n",
       "      <th>order_id</th>\n",
       "      <th>status_id</th>\n",
       "      <th>status_date</th>\n",
       "    </tr>\n",
       "  </thead>\n",
       "  <tbody>\n",
       "  </tbody>\n",
       "</table>\n",
       "</div>"
      ],
      "text/plain": [
       "Empty DataFrame\n",
       "Columns: [history_id, order_id, status_id, status_date]\n",
       "Index: []"
      ]
     },
     "execution_count": 27,
     "metadata": {},
     "output_type": "execute_result"
    }
   ],
   "source": [
    "cursor.execute(\"SELECT * FROM order_history\")\n",
    "rows = cursor.fetchall()\n",
    "data = [list(row) for row in rows]\n",
    "order_history_column_names = [column[0] for column in cursor.description]\n",
    "\n",
    "# Define your own column names\n",
    "custom_column_names = ['history_id','order_id', 'status_id', 'status_date']\n",
    "\n",
    "# Create a Pandas DataFrame with your custom column names\n",
    "order_historyData = pd.DataFrame(data, columns=custom_column_names)\n",
    "\n",
    "order_historyData"
   ]
  },
  {
   "cell_type": "markdown",
   "id": "3b5963e9-4712-46ef-8ece-77f6cda61b33",
   "metadata": {},
   "source": [
    "# Data Transformation"
   ]
  },
  {
   "cell_type": "markdown",
   "id": "36eb23fc-f6c0-4dd8-8163-ec0643a84225",
   "metadata": {},
   "source": [
    "## Columns of author table"
   ]
  },
  {
   "cell_type": "code",
   "execution_count": 28,
   "id": "71c5b5d4-28e2-4073-9519-83ec6ac2dd5f",
   "metadata": {},
   "outputs": [
    {
     "data": {
      "text/plain": [
       "['author_id', 'author_name']"
      ]
     },
     "execution_count": 28,
     "metadata": {},
     "output_type": "execute_result"
    }
   ],
   "source": [
    "author_column_names"
   ]
  },
  {
   "cell_type": "markdown",
   "id": "94cef1f6-e662-41c8-83f8-2164f2c1da32",
   "metadata": {},
   "source": [
    "## Columns of order_history table"
   ]
  },
  {
   "cell_type": "code",
   "execution_count": 29,
   "id": "8c55e97b-16db-4df1-a7f3-d399945fe779",
   "metadata": {},
   "outputs": [
    {
     "data": {
      "text/plain": [
       "['history_id', 'order_id', 'status_id', 'status_date']"
      ]
     },
     "execution_count": 29,
     "metadata": {},
     "output_type": "execute_result"
    }
   ],
   "source": [
    "order_history_column_names"
   ]
  },
  {
   "cell_type": "markdown",
   "id": "2f99738f-2413-4c0b-b215-83ceb239c19c",
   "metadata": {},
   "source": [
    "## Columns of order_line table"
   ]
  },
  {
   "cell_type": "code",
   "execution_count": 30,
   "id": "3a90ce73-78bc-46dd-aaf9-eb9bfd468ab9",
   "metadata": {},
   "outputs": [
    {
     "data": {
      "text/plain": [
       "['line_id', 'order_id', 'book_id', 'price']"
      ]
     },
     "execution_count": 30,
     "metadata": {},
     "output_type": "execute_result"
    }
   ],
   "source": [
    "order_line_column_names"
   ]
  },
  {
   "cell_type": "markdown",
   "id": "a4317e11-e29e-48ad-a26a-fdf5f08258f9",
   "metadata": {},
   "source": [
    "## Columns of customer_order table"
   ]
  },
  {
   "cell_type": "code",
   "execution_count": 31,
   "id": "699b1ff1-f904-43ed-bca0-b2aaab0567eb",
   "metadata": {},
   "outputs": [
    {
     "data": {
      "text/plain": [
       "['order_id',\n",
       " 'order_date',\n",
       " 'customer_id',\n",
       " 'shipping_method_id',\n",
       " 'dest_address_id']"
      ]
     },
     "execution_count": 31,
     "metadata": {},
     "output_type": "execute_result"
    }
   ],
   "source": [
    "cust_order_column_names"
   ]
  },
  {
   "cell_type": "markdown",
   "id": "1641d76d-8857-4e73-9e4e-72bd15eb42c6",
   "metadata": {},
   "source": [
    "## Columns of customer_address table"
   ]
  },
  {
   "cell_type": "code",
   "execution_count": 32,
   "id": "849caced-2c41-4156-afa3-cf5c32e7378b",
   "metadata": {},
   "outputs": [
    {
     "data": {
      "text/plain": [
       "['customer_id', 'address_id', 'status_id']"
      ]
     },
     "execution_count": 32,
     "metadata": {},
     "output_type": "execute_result"
    }
   ],
   "source": [
    "customer_address_column_names"
   ]
  },
  {
   "cell_type": "code",
   "execution_count": 33,
   "id": "12a95daa-fa86-4a68-8b48-7a32a0750a81",
   "metadata": {},
   "outputs": [
    {
     "data": {
      "text/html": [
       "<div>\n",
       "<style scoped>\n",
       "    .dataframe tbody tr th:only-of-type {\n",
       "        vertical-align: middle;\n",
       "    }\n",
       "\n",
       "    .dataframe tbody tr th {\n",
       "        vertical-align: top;\n",
       "    }\n",
       "\n",
       "    .dataframe thead th {\n",
       "        text-align: right;\n",
       "    }\n",
       "</style>\n",
       "<table border=\"1\" class=\"dataframe\">\n",
       "  <thead>\n",
       "    <tr style=\"text-align: right;\">\n",
       "      <th></th>\n",
       "      <th>customer_id</th>\n",
       "      <th>address_id</th>\n",
       "      <th>status_id</th>\n",
       "    </tr>\n",
       "  </thead>\n",
       "  <tbody>\n",
       "    <tr>\n",
       "      <th>0</th>\n",
       "      <td>1</td>\n",
       "      <td>38</td>\n",
       "      <td>1</td>\n",
       "    </tr>\n",
       "    <tr>\n",
       "      <th>1</th>\n",
       "      <td>1</td>\n",
       "      <td>337</td>\n",
       "      <td>1</td>\n",
       "    </tr>\n",
       "    <tr>\n",
       "      <th>2</th>\n",
       "      <td>1</td>\n",
       "      <td>593</td>\n",
       "      <td>1</td>\n",
       "    </tr>\n",
       "    <tr>\n",
       "      <th>3</th>\n",
       "      <td>1</td>\n",
       "      <td>854</td>\n",
       "      <td>1</td>\n",
       "    </tr>\n",
       "    <tr>\n",
       "      <th>4</th>\n",
       "      <td>2</td>\n",
       "      <td>8</td>\n",
       "      <td>2</td>\n",
       "    </tr>\n",
       "    <tr>\n",
       "      <th>...</th>\n",
       "      <td>...</td>\n",
       "      <td>...</td>\n",
       "      <td>...</td>\n",
       "    </tr>\n",
       "    <tr>\n",
       "      <th>5693</th>\n",
       "      <td>1999</td>\n",
       "      <td>667</td>\n",
       "      <td>1</td>\n",
       "    </tr>\n",
       "    <tr>\n",
       "      <th>5694</th>\n",
       "      <td>1999</td>\n",
       "      <td>796</td>\n",
       "      <td>1</td>\n",
       "    </tr>\n",
       "    <tr>\n",
       "      <th>5695</th>\n",
       "      <td>1999</td>\n",
       "      <td>900</td>\n",
       "      <td>1</td>\n",
       "    </tr>\n",
       "    <tr>\n",
       "      <th>5696</th>\n",
       "      <td>2000</td>\n",
       "      <td>216</td>\n",
       "      <td>1</td>\n",
       "    </tr>\n",
       "    <tr>\n",
       "      <th>5697</th>\n",
       "      <td>2000</td>\n",
       "      <td>777</td>\n",
       "      <td>1</td>\n",
       "    </tr>\n",
       "  </tbody>\n",
       "</table>\n",
       "<p>5698 rows × 3 columns</p>\n",
       "</div>"
      ],
      "text/plain": [
       "      customer_id  address_id  status_id\n",
       "0               1          38          1\n",
       "1               1         337          1\n",
       "2               1         593          1\n",
       "3               1         854          1\n",
       "4               2           8          2\n",
       "...           ...         ...        ...\n",
       "5693         1999         667          1\n",
       "5694         1999         796          1\n",
       "5695         1999         900          1\n",
       "5696         2000         216          1\n",
       "5697         2000         777          1\n",
       "\n",
       "[5698 rows x 3 columns]"
      ]
     },
     "execution_count": 33,
     "metadata": {},
     "output_type": "execute_result"
    }
   ],
   "source": [
    "customer_addressData"
   ]
  },
  {
   "cell_type": "markdown",
   "id": "39b1090b-fbd2-41c9-86f6-a43e22636436",
   "metadata": {},
   "source": [
    "### Data Extracted from customer_address"
   ]
  },
  {
   "cell_type": "code",
   "execution_count": 34,
   "id": "25fd6716-1407-49df-8ea3-f6476ad93514",
   "metadata": {},
   "outputs": [],
   "source": [
    "New_customer_address = customer_addressData[['status_id']]\n",
    "New_customer_address_customer_id = customer_addressData[['customer_id']]\n",
    "New_customer_address_address_id = customer_addressData[['address_id']]\n"
   ]
  },
  {
   "cell_type": "markdown",
   "id": "589e0b93-0222-4f2b-9efb-093e82e34562",
   "metadata": {},
   "source": [
    "## Columns of customer table"
   ]
  },
  {
   "cell_type": "code",
   "execution_count": 35,
   "id": "e1f510d0-46fc-415f-94ee-d3408cfe8306",
   "metadata": {},
   "outputs": [
    {
     "data": {
      "text/plain": [
       "['customer_id', 'first_name', 'last_name', 'email']"
      ]
     },
     "execution_count": 35,
     "metadata": {},
     "output_type": "execute_result"
    }
   ],
   "source": [
    "customer_column_names"
   ]
  },
  {
   "cell_type": "markdown",
   "id": "af6b78c6-cff3-421d-ae29-2b226a4b2c43",
   "metadata": {},
   "source": [
    "### Data Extracted from customer"
   ]
  },
  {
   "cell_type": "code",
   "execution_count": 36,
   "id": "6c571c7b-f867-458c-8f49-e761f4d74301",
   "metadata": {},
   "outputs": [],
   "source": [
    "NewCustomerData = customerData[['first_name', 'last_name', 'email' ]]\n",
    "NewCustomerData_customer_id = customerData[['customer_id']]\n"
   ]
  },
  {
   "cell_type": "markdown",
   "id": "e35d110e-e382-46f8-a00e-9532834714b6",
   "metadata": {},
   "source": [
    "## Columns of country table"
   ]
  },
  {
   "cell_type": "code",
   "execution_count": 37,
   "id": "190d588c-ef59-4eea-8d29-7032ece5ab43",
   "metadata": {},
   "outputs": [
    {
     "data": {
      "text/plain": [
       "['country_id', 'country_name']"
      ]
     },
     "execution_count": 37,
     "metadata": {},
     "output_type": "execute_result"
    }
   ],
   "source": [
    "country_column_names"
   ]
  },
  {
   "cell_type": "markdown",
   "id": "6e8db4d3-a5f0-4eb7-8a4a-97b767a977a1",
   "metadata": {},
   "source": [
    "### Data exctracted from country"
   ]
  },
  {
   "cell_type": "code",
   "execution_count": 38,
   "id": "4c5719c4-5dac-418e-9d83-52ce9d0590de",
   "metadata": {},
   "outputs": [],
   "source": [
    "NewcountryData = countryData[['country_name']]\n",
    "NewcountryData_country_id = countryData[['country_id']]"
   ]
  },
  {
   "cell_type": "markdown",
   "id": "b3a1addb-f3de-40fd-a5a7-bd7cb92aba7f",
   "metadata": {},
   "source": [
    "## Columns of book_author table"
   ]
  },
  {
   "cell_type": "code",
   "execution_count": 39,
   "id": "b7a54b25-275e-4668-9aee-cccc7b0c7890",
   "metadata": {},
   "outputs": [
    {
     "data": {
      "text/plain": [
       "['book_id', 'author_id']"
      ]
     },
     "execution_count": 39,
     "metadata": {},
     "output_type": "execute_result"
    }
   ],
   "source": [
    "book_author_column_names"
   ]
  },
  {
   "cell_type": "markdown",
   "id": "952eff7c-3dcb-42ba-ad9d-e0fd54e84b1a",
   "metadata": {},
   "source": [
    "## Columns of book_language table"
   ]
  },
  {
   "cell_type": "code",
   "execution_count": 40,
   "id": "8f32f5da-382c-41a2-b18e-e7e9efd19b26",
   "metadata": {},
   "outputs": [
    {
     "data": {
      "text/plain": [
       "['language_id', 'language_code', 'language_name']"
      ]
     },
     "execution_count": 40,
     "metadata": {},
     "output_type": "execute_result"
    }
   ],
   "source": [
    "book_language_column_names"
   ]
  },
  {
   "cell_type": "markdown",
   "id": "cca33ce7-a090-4fbb-9f65-2c99d03dba9c",
   "metadata": {},
   "source": [
    "## Columns of publisher table"
   ]
  },
  {
   "cell_type": "code",
   "execution_count": 41,
   "id": "99e7e43c-40a0-4a32-8795-7ca3c6cc7fac",
   "metadata": {},
   "outputs": [
    {
     "data": {
      "text/plain": [
       "['publisher_id', 'publisher_name']"
      ]
     },
     "execution_count": 41,
     "metadata": {},
     "output_type": "execute_result"
    }
   ],
   "source": [
    "publisher_column_names"
   ]
  },
  {
   "cell_type": "markdown",
   "id": "16780700-bea5-4ddb-82b6-6c6cb1f47dc8",
   "metadata": {},
   "source": [
    "## Columns of address table"
   ]
  },
  {
   "cell_type": "code",
   "execution_count": 42,
   "id": "c1a98c84-8a3d-4a32-9460-a052874d6726",
   "metadata": {},
   "outputs": [
    {
     "data": {
      "text/plain": [
       "['address_id', 'street_number', 'street_name', 'city', 'country_id']"
      ]
     },
     "execution_count": 42,
     "metadata": {},
     "output_type": "execute_result"
    }
   ],
   "source": [
    "address_column_names"
   ]
  },
  {
   "cell_type": "markdown",
   "id": "f4d9cd6e-537f-431f-9957-88b34aa5f175",
   "metadata": {},
   "source": [
    "### Data exctracted from address"
   ]
  },
  {
   "cell_type": "code",
   "execution_count": 43,
   "id": "b5ac3345-2848-4926-a65b-5878f6caf94e",
   "metadata": {},
   "outputs": [],
   "source": [
    "NewaddressData = addressData[['street_name', 'city']]\n",
    "NewaddressData_address_id = addressData[['address_id']]\n"
   ]
  },
  {
   "cell_type": "markdown",
   "id": "5acdcd2d-08c4-48a9-8c8d-624f91a54a44",
   "metadata": {},
   "source": [
    "## Columns of book table"
   ]
  },
  {
   "cell_type": "code",
   "execution_count": 44,
   "id": "08bc92e3-da5f-434f-b489-27a0ed7120f7",
   "metadata": {},
   "outputs": [
    {
     "data": {
      "text/plain": [
       "['book_id',\n",
       " 'title',\n",
       " 'isbn13',\n",
       " 'language_id',\n",
       " 'num_pages',\n",
       " 'publication_date',\n",
       " 'publisher_id']"
      ]
     },
     "execution_count": 44,
     "metadata": {},
     "output_type": "execute_result"
    }
   ],
   "source": [
    "book_column_names"
   ]
  },
  {
   "cell_type": "markdown",
   "id": "65090aca-3dfa-4e29-bdba-450fa39ffe0e",
   "metadata": {},
   "source": [
    "# Transform Data for DimCustomer"
   ]
  },
  {
   "cell_type": "code",
   "execution_count": 45,
   "id": "08d88d16-8bf6-4cbd-afac-2b7b4551c8d1",
   "metadata": {},
   "outputs": [
    {
     "ename": "NameError",
     "evalue": "name 'New_customer_address_status_id' is not defined",
     "output_type": "error",
     "traceback": [
      "\u001b[1;31m---------------------------------------------------------------------------\u001b[0m",
      "\u001b[1;31mNameError\u001b[0m                                 Traceback (most recent call last)",
      "Cell \u001b[1;32mIn[45], line 7\u001b[0m\n\u001b[0;32m      5\u001b[0m NewcountryData_country_id \u001b[38;5;241m=\u001b[39m NewcountryData_country_id\u001b[38;5;241m.\u001b[39mrename(columns\u001b[38;5;241m=\u001b[39m{\u001b[38;5;124m'\u001b[39m\u001b[38;5;124mcountry_id\u001b[39m\u001b[38;5;124m'\u001b[39m:\u001b[38;5;124m'\u001b[39m\u001b[38;5;124mcountry_id_BK\u001b[39m\u001b[38;5;124m'\u001b[39m})\n\u001b[0;32m      6\u001b[0m New_customer_address_address_id \u001b[38;5;241m=\u001b[39m New_customer_address_address_id\u001b[38;5;241m.\u001b[39mrename(columns\u001b[38;5;241m=\u001b[39m{\u001b[38;5;124m'\u001b[39m\u001b[38;5;124maddress_id\u001b[39m\u001b[38;5;124m'\u001b[39m:\u001b[38;5;124m'\u001b[39m\u001b[38;5;124mstatus_id_BK\u001b[39m\u001b[38;5;124m'\u001b[39m})\n\u001b[1;32m----> 7\u001b[0m New_customer_address_status_id \u001b[38;5;241m=\u001b[39m New_customer_address_status_id\u001b[38;5;241m.\u001b[39mrename(columns\u001b[38;5;241m=\u001b[39m{\u001b[38;5;124m'\u001b[39m\u001b[38;5;124maddress_id\u001b[39m\u001b[38;5;124m'\u001b[39m:\u001b[38;5;124m'\u001b[39m\u001b[38;5;124maddress_status\u001b[39m\u001b[38;5;124m'\u001b[39m})\n\u001b[0;32m      9\u001b[0m DimCustomerData \u001b[38;5;241m=\u001b[39m pd\u001b[38;5;241m.\u001b[39mconcat([NewCustomerData_customer_id,                        \n\u001b[0;32m     10\u001b[0m                          NewaddressData_address_id,                         \n\u001b[0;32m     11\u001b[0m                          NewcountryData_country_id,                         \n\u001b[1;32m   (...)\u001b[0m\n\u001b[0;32m     18\u001b[0m                         ], \n\u001b[0;32m     19\u001b[0m                         axis\u001b[38;5;241m=\u001b[39m\u001b[38;5;241m1\u001b[39m, join\u001b[38;5;241m=\u001b[39m\u001b[38;5;124m'\u001b[39m\u001b[38;5;124minner\u001b[39m\u001b[38;5;124m'\u001b[39m)\n\u001b[0;32m     20\u001b[0m DimCustomerData[\u001b[38;5;124m'\u001b[39m\u001b[38;5;124msource_system_code\u001b[39m\u001b[38;5;124m'\u001b[39m] \u001b[38;5;241m=\u001b[39m \u001b[38;5;124m'\u001b[39m\u001b[38;5;124mgravity_books\u001b[39m\u001b[38;5;124m'\u001b[39m\n",
      "\u001b[1;31mNameError\u001b[0m: name 'New_customer_address_status_id' is not defined"
     ]
    }
   ],
   "source": [
    "current_date = datetime.now()\n",
    "\n",
    "NewCustomerData_customer_id = NewCustomerData_customer_id.rename(columns={'customer_id':'customer_id_BK'})\n",
    "NewaddressData_address_id = NewaddressData_address_id.rename(columns={'address_id':'address_id_BK'})\n",
    "NewcountryData_country_id = NewcountryData_country_id.rename(columns={'country_id':'country_id_BK'})\n",
    "New_customer_address_address_id = New_customer_address_address_id.rename(columns={'address_id':'status_id_BK'})\n",
    "New_customer_address_status_id = New_customer_address_status_id.rename(columns={'address_id':'address_status'})\n",
    "\n",
    "DimCustomerData = pd.concat([NewCustomerData_customer_id,                        \n",
    "                         NewaddressData_address_id,                         \n",
    "                         NewcountryData_country_id,                         \n",
    "                         New_customer_address_address_id,\n",
    "                         NewCustomerData,\n",
    "                         NewcountryData, \n",
    "                         NewaddressData, \n",
    "                         New_customer_address_status_id\n",
    "                         \n",
    "                        ], \n",
    "                        axis=1, join='inner')\n",
    "DimCustomerData['source_system_code'] = 'gravity_books'\n",
    "DimCustomerData['start_date'] = current_date\n",
    "DimCustomerData['end_date'] = pd.to_datetime('2025-12-31')\n",
    "DimCustomerData['is_current'] = 1\n",
    "\n",
    "DimCustomerData"
   ]
  },
  {
   "cell_type": "code",
   "execution_count": null,
   "id": "a39f13b6-7ba1-4044-9b9e-e3af479f1b14",
   "metadata": {},
   "outputs": [],
   "source": [
    "conn = pyodbc.connect(\"DRIVER={ODBC Driver 17 for SQL Server};SERVER=DESKTOP-MF69IV4\\\\SQLEXPRESS;DATABASE=Data_Warehouse;Trusted_Connection=yes\")\n",
    "cursor = conn.cursor()"
   ]
  },
  {
   "cell_type": "code",
   "execution_count": null,
   "id": "b961e2a4-4829-48f0-8bdd-1665d70e5bf0",
   "metadata": {},
   "outputs": [],
   "source": [
    "insert_query = \"\"\"INSERT INTO DimCustomer (customer_id_BK, address_id_BK, country_id_BK, status_id_BK, first_name, last_name, email, \n",
    "                        country_name, street_name, city, address_status, source_system_code, start_date, end_date, is_current\n",
    "                        ) \n",
    "                        VALUES \n",
    "                        (?, ?, ?, ?, ?, ?, ?, ?, ?, ?, ?, ?, ?, ?, ?)\"\"\"\n",
    "\n",
    "for index, row in DimCustomer.iterrows():\n",
    "    cursor.execute(insert_query, (\n",
    "        row['customer_id_BK'],\n",
    "        row['address_id_BK'],\n",
    "        row['country_id_BK'],\n",
    "        row['status_id_BK'],\n",
    "        row['first_name'],\n",
    "        row['last_name'],\n",
    "        row['email'],\n",
    "        row['country_name'],\n",
    "        row['street_name'],\n",
    "        row['city'],\n",
    "        row['address_status'],\n",
    "        row['source_system_code'],\n",
    "        row['start_date'],\n",
    "        row['end_date'],\n",
    "        row['is_current']\n",
    "    ))\n",
    "conn.commit()\n",
    "\n",
    "\n",
    "print(\"Data inserted successfully into dbo.DimCustomer table.\")\n"
   ]
  },
  {
   "cell_type": "code",
   "execution_count": null,
   "id": "a7f9ef6a-15bb-4c11-9c14-f77779df4b6a",
   "metadata": {},
   "outputs": [],
   "source": []
  },
  {
   "cell_type": "code",
   "execution_count": null,
   "id": "3c32ef68-944f-4002-a9e1-bdc9e082f863",
   "metadata": {},
   "outputs": [],
   "source": [
    "print(DimCustomer.columns)\n"
   ]
  },
  {
   "cell_type": "code",
   "execution_count": null,
   "id": "4acb556d-2a07-49ac-abcb-43e2d1dfdbd9",
   "metadata": {},
   "outputs": [],
   "source": [
    "cursor.execute(\"SELECT * FROM DimCustomer\")\n",
    "rows = cursor.fetchall()\n",
    "data = [list(row) for row in rows]\n",
    "customer_column_names = [column[0] for column in cursor.description]\n",
    "\n",
    "\n",
    "# Create a Pandas DataFrame with your custom column names\n",
    "selectedData = pd.DataFrame(data)\n",
    "\n",
    "selectedData"
   ]
  },
  {
   "cell_type": "code",
   "execution_count": null,
   "id": "6369369d-fefa-4fea-ac8a-b8be4ea3c8b1",
   "metadata": {},
   "outputs": [],
   "source": []
  }
 ],
 "metadata": {
  "kernelspec": {
   "display_name": "Python 3 (ipykernel)",
   "language": "python",
   "name": "python3"
  },
  "language_info": {
   "codemirror_mode": {
    "name": "ipython",
    "version": 3
   },
   "file_extension": ".py",
   "mimetype": "text/x-python",
   "name": "python",
   "nbconvert_exporter": "python",
   "pygments_lexer": "ipython3",
   "version": "3.12.7"
  }
 },
 "nbformat": 4,
 "nbformat_minor": 5
}
