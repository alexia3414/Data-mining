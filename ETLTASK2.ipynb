{
 "cells": [
  {
   "cell_type": "code",
   "execution_count": 86,
   "id": "b42eb015-8e46-49e4-9e3f-a2a2d5b40d0f",
   "metadata": {},
   "outputs": [
    {
     "data": {
      "text/html": [
       "<div>\n",
       "<style scoped>\n",
       "    .dataframe tbody tr th:only-of-type {\n",
       "        vertical-align: middle;\n",
       "    }\n",
       "\n",
       "    .dataframe tbody tr th {\n",
       "        vertical-align: top;\n",
       "    }\n",
       "\n",
       "    .dataframe thead th {\n",
       "        text-align: right;\n",
       "    }\n",
       "</style>\n",
       "<table border=\"1\" class=\"dataframe\">\n",
       "  <thead>\n",
       "    <tr style=\"text-align: right;\">\n",
       "      <th></th>\n",
       "      <th>Segment</th>\n",
       "      <th>Country</th>\n",
       "      <th>Product</th>\n",
       "      <th>Discount Band</th>\n",
       "      <th>Units Sold</th>\n",
       "      <th>Manufacturing Price</th>\n",
       "      <th>Sale Price</th>\n",
       "      <th>Gross Sales</th>\n",
       "      <th>Discounts</th>\n",
       "      <th>Sales</th>\n",
       "      <th>COGS</th>\n",
       "      <th>Profit</th>\n",
       "      <th>Date</th>\n",
       "      <th>Month Number</th>\n",
       "      <th>Month Name</th>\n",
       "      <th>Year</th>\n",
       "    </tr>\n",
       "  </thead>\n",
       "  <tbody>\n",
       "    <tr>\n",
       "      <th>0</th>\n",
       "      <td>Government</td>\n",
       "      <td>Canada</td>\n",
       "      <td>Carretera</td>\n",
       "      <td>NaN</td>\n",
       "      <td>1618.5</td>\n",
       "      <td>3</td>\n",
       "      <td>20</td>\n",
       "      <td>32370.0</td>\n",
       "      <td>0.0</td>\n",
       "      <td>32370.0</td>\n",
       "      <td>16185.0</td>\n",
       "      <td>16185.0</td>\n",
       "      <td>2014-01-01</td>\n",
       "      <td>1</td>\n",
       "      <td>January</td>\n",
       "      <td>2014</td>\n",
       "    </tr>\n",
       "    <tr>\n",
       "      <th>1</th>\n",
       "      <td>Government</td>\n",
       "      <td>Germany</td>\n",
       "      <td>Carretera</td>\n",
       "      <td>NaN</td>\n",
       "      <td>1321.0</td>\n",
       "      <td>3</td>\n",
       "      <td>20</td>\n",
       "      <td>26420.0</td>\n",
       "      <td>0.0</td>\n",
       "      <td>26420.0</td>\n",
       "      <td>13210.0</td>\n",
       "      <td>13210.0</td>\n",
       "      <td>2014-01-01</td>\n",
       "      <td>1</td>\n",
       "      <td>January</td>\n",
       "      <td>2014</td>\n",
       "    </tr>\n",
       "    <tr>\n",
       "      <th>2</th>\n",
       "      <td>Midmarket</td>\n",
       "      <td>France</td>\n",
       "      <td>Carretera</td>\n",
       "      <td>NaN</td>\n",
       "      <td>2178.0</td>\n",
       "      <td>3</td>\n",
       "      <td>15</td>\n",
       "      <td>32670.0</td>\n",
       "      <td>0.0</td>\n",
       "      <td>32670.0</td>\n",
       "      <td>21780.0</td>\n",
       "      <td>10890.0</td>\n",
       "      <td>2014-06-01</td>\n",
       "      <td>6</td>\n",
       "      <td>June</td>\n",
       "      <td>2014</td>\n",
       "    </tr>\n",
       "    <tr>\n",
       "      <th>3</th>\n",
       "      <td>Midmarket</td>\n",
       "      <td>Germany</td>\n",
       "      <td>Carretera</td>\n",
       "      <td>NaN</td>\n",
       "      <td>888.0</td>\n",
       "      <td>3</td>\n",
       "      <td>15</td>\n",
       "      <td>13320.0</td>\n",
       "      <td>0.0</td>\n",
       "      <td>13320.0</td>\n",
       "      <td>8880.0</td>\n",
       "      <td>4440.0</td>\n",
       "      <td>2014-06-01</td>\n",
       "      <td>6</td>\n",
       "      <td>June</td>\n",
       "      <td>2014</td>\n",
       "    </tr>\n",
       "    <tr>\n",
       "      <th>4</th>\n",
       "      <td>Midmarket</td>\n",
       "      <td>Mexico</td>\n",
       "      <td>Carretera</td>\n",
       "      <td>NaN</td>\n",
       "      <td>2470.0</td>\n",
       "      <td>3</td>\n",
       "      <td>15</td>\n",
       "      <td>37050.0</td>\n",
       "      <td>0.0</td>\n",
       "      <td>37050.0</td>\n",
       "      <td>24700.0</td>\n",
       "      <td>12350.0</td>\n",
       "      <td>2014-06-01</td>\n",
       "      <td>6</td>\n",
       "      <td>June</td>\n",
       "      <td>2014</td>\n",
       "    </tr>\n",
       "  </tbody>\n",
       "</table>\n",
       "</div>"
      ],
      "text/plain": [
       "      Segment  Country    Product Discount Band  Units Sold  \\\n",
       "0  Government   Canada  Carretera           NaN      1618.5   \n",
       "1  Government  Germany  Carretera           NaN      1321.0   \n",
       "2   Midmarket   France  Carretera           NaN      2178.0   \n",
       "3   Midmarket  Germany  Carretera           NaN       888.0   \n",
       "4   Midmarket   Mexico  Carretera           NaN      2470.0   \n",
       "\n",
       "   Manufacturing Price  Sale Price  Gross Sales  Discounts    Sales     COGS  \\\n",
       "0                    3          20      32370.0        0.0  32370.0  16185.0   \n",
       "1                    3          20      26420.0        0.0  26420.0  13210.0   \n",
       "2                    3          15      32670.0        0.0  32670.0  21780.0   \n",
       "3                    3          15      13320.0        0.0  13320.0   8880.0   \n",
       "4                    3          15      37050.0        0.0  37050.0  24700.0   \n",
       "\n",
       "    Profit       Date  Month Number Month Name  Year  \n",
       "0  16185.0 2014-01-01             1    January  2014  \n",
       "1  13210.0 2014-01-01             1    January  2014  \n",
       "2  10890.0 2014-06-01             6       June  2014  \n",
       "3   4440.0 2014-06-01             6       June  2014  \n",
       "4  12350.0 2014-06-01             6       June  2014  "
      ]
     },
     "execution_count": 86,
     "metadata": {},
     "output_type": "execute_result"
    }
   ],
   "source": [
    "import pandas as pd\n",
    "import mysql.connector as my\n",
    "main_file = pd.read_excel(\"financial_sample.xlsx\")\n",
    "main_file.head()"
   ]
  },
  {
   "cell_type": "code",
   "execution_count": 87,
   "id": "7338d571-b661-478a-b740-5d2d6739fffd",
   "metadata": {},
   "outputs": [],
   "source": [
    "db=my.connect(host=\"localhost\",user=\"root\",password=\"\",database=\"sales1\")"
   ]
  },
  {
   "cell_type": "code",
   "execution_count": 88,
   "id": "439be18c-f8dd-40d3-8468-885a96dbae07",
   "metadata": {},
   "outputs": [],
   "source": [
    "mycursor=db.cursor()"
   ]
  },
  {
   "cell_type": "code",
   "execution_count": 89,
   "id": "9e091cd7-cb6d-4375-b9a6-b4f93cf8d306",
   "metadata": {},
   "outputs": [
    {
     "ename": "ProgrammingError",
     "evalue": "1050 (42S01): Table 'product_data' already exists",
     "output_type": "error",
     "traceback": [
      "\u001b[1;31m---------------------------------------------------------------------------\u001b[0m",
      "\u001b[1;31mProgrammingError\u001b[0m                          Traceback (most recent call last)",
      "Cell \u001b[1;32mIn[89], line 1\u001b[0m\n\u001b[1;32m----> 1\u001b[0m mycursor\u001b[38;5;241m.\u001b[39mexecute(\u001b[38;5;124m\"\"\"\u001b[39m\u001b[38;5;124mCreate Table product_data(product_id INT PRIMARY KEY, product_name VARCHAR(255),category VARCHAR(255))\u001b[39m\u001b[38;5;124m\"\"\"\u001b[39m)\n",
      "File \u001b[1;32m~\\AppData\\Roaming\\Python\\Python312\\site-packages\\mysql\\connector\\cursor.py:416\u001b[0m, in \u001b[0;36mMySQLCursor.execute\u001b[1;34m(self, operation, params, map_results)\u001b[0m\n\u001b[0;32m    408\u001b[0m \u001b[38;5;28mself\u001b[39m\u001b[38;5;241m.\u001b[39m_executed_list \u001b[38;5;241m=\u001b[39m \u001b[38;5;28mself\u001b[39m\u001b[38;5;241m.\u001b[39m_stmt_partition[\u001b[38;5;124m\"\u001b[39m\u001b[38;5;124msingle_stmts\u001b[39m\u001b[38;5;124m\"\u001b[39m]\n\u001b[0;32m    409\u001b[0m \u001b[38;5;28mself\u001b[39m\u001b[38;5;241m.\u001b[39m_executed \u001b[38;5;241m=\u001b[39m (\n\u001b[0;32m    410\u001b[0m     \u001b[38;5;28mself\u001b[39m\u001b[38;5;241m.\u001b[39m_stmt_partition[\u001b[38;5;124m\"\u001b[39m\u001b[38;5;124msingle_stmts\u001b[39m\u001b[38;5;124m\"\u001b[39m]\u001b[38;5;241m.\u001b[39mpopleft()\n\u001b[0;32m    411\u001b[0m     \u001b[38;5;28;01mif\u001b[39;00m map_results\n\u001b[0;32m    412\u001b[0m     \u001b[38;5;28;01melse\u001b[39;00m \u001b[38;5;28mself\u001b[39m\u001b[38;5;241m.\u001b[39m_stmt_partition[\u001b[38;5;124m\"\u001b[39m\u001b[38;5;124mmappable_stmt\u001b[39m\u001b[38;5;124m\"\u001b[39m]\n\u001b[0;32m    413\u001b[0m )\n\u001b[0;32m    415\u001b[0m \u001b[38;5;28mself\u001b[39m\u001b[38;5;241m.\u001b[39m_handle_result(\n\u001b[1;32m--> 416\u001b[0m     \u001b[38;5;28mself\u001b[39m\u001b[38;5;241m.\u001b[39m_connection\u001b[38;5;241m.\u001b[39mcmd_query(\n\u001b[0;32m    417\u001b[0m         \u001b[38;5;28mself\u001b[39m\u001b[38;5;241m.\u001b[39m_stmt_partition[\u001b[38;5;124m\"\u001b[39m\u001b[38;5;124mmappable_stmt\u001b[39m\u001b[38;5;124m\"\u001b[39m],\n\u001b[0;32m    418\u001b[0m         read_timeout\u001b[38;5;241m=\u001b[39m\u001b[38;5;28mself\u001b[39m\u001b[38;5;241m.\u001b[39m_read_timeout,\n\u001b[0;32m    419\u001b[0m         write_timeout\u001b[38;5;241m=\u001b[39m\u001b[38;5;28mself\u001b[39m\u001b[38;5;241m.\u001b[39m_write_timeout,\n\u001b[0;32m    420\u001b[0m     )\n\u001b[0;32m    421\u001b[0m )\n\u001b[0;32m    423\u001b[0m \u001b[38;5;28;01mreturn\u001b[39;00m \u001b[38;5;28;01mNone\u001b[39;00m\n",
      "File \u001b[1;32m~\\AppData\\Roaming\\Python\\Python312\\site-packages\\mysql\\connector\\opentelemetry\\context_propagation.py:97\u001b[0m, in \u001b[0;36mwith_context_propagation.<locals>.wrapper\u001b[1;34m(cnx, *args, **kwargs)\u001b[0m\n\u001b[0;32m     95\u001b[0m \u001b[38;5;66;03m# pylint: disable=possibly-used-before-assignment\u001b[39;00m\n\u001b[0;32m     96\u001b[0m \u001b[38;5;28;01mif\u001b[39;00m \u001b[38;5;129;01mnot\u001b[39;00m OTEL_ENABLED \u001b[38;5;129;01mor\u001b[39;00m \u001b[38;5;129;01mnot\u001b[39;00m cnx\u001b[38;5;241m.\u001b[39motel_context_propagation:\n\u001b[1;32m---> 97\u001b[0m     \u001b[38;5;28;01mreturn\u001b[39;00m method(cnx, \u001b[38;5;241m*\u001b[39margs, \u001b[38;5;241m*\u001b[39m\u001b[38;5;241m*\u001b[39mkwargs)\n\u001b[0;32m     99\u001b[0m current_span \u001b[38;5;241m=\u001b[39m trace\u001b[38;5;241m.\u001b[39mget_current_span()\n\u001b[0;32m    100\u001b[0m tp_header \u001b[38;5;241m=\u001b[39m \u001b[38;5;28;01mNone\u001b[39;00m\n",
      "File \u001b[1;32m~\\AppData\\Roaming\\Python\\Python312\\site-packages\\mysql\\connector\\utils.py:742\u001b[0m, in \u001b[0;36mhandle_read_write_timeout.<locals>.decorator.<locals>.handle_cnx_method\u001b[1;34m(cnx, *args, **kwargs)\u001b[0m\n\u001b[0;32m    740\u001b[0m \u001b[38;5;28;01mif\u001b[39;00m \u001b[38;5;28misinstance\u001b[39m(err, \u001b[38;5;167;01mTimeoutError\u001b[39;00m):\n\u001b[0;32m    741\u001b[0m     cnx\u001b[38;5;241m.\u001b[39mclose()\n\u001b[1;32m--> 742\u001b[0m \u001b[38;5;28;01mraise\u001b[39;00m err\n",
      "File \u001b[1;32m~\\AppData\\Roaming\\Python\\Python312\\site-packages\\mysql\\connector\\utils.py:738\u001b[0m, in \u001b[0;36mhandle_read_write_timeout.<locals>.decorator.<locals>.handle_cnx_method\u001b[1;34m(cnx, *args, **kwargs)\u001b[0m\n\u001b[0;32m    733\u001b[0m \u001b[38;5;129m@functools\u001b[39m\u001b[38;5;241m.\u001b[39mwraps(cnx_method)\n\u001b[0;32m    734\u001b[0m \u001b[38;5;28;01mdef\u001b[39;00m \u001b[38;5;21mhandle_cnx_method\u001b[39m(\n\u001b[0;32m    735\u001b[0m     cnx: \u001b[38;5;124m\"\u001b[39m\u001b[38;5;124mMySQLConnectionAbstract\u001b[39m\u001b[38;5;124m\"\u001b[39m, \u001b[38;5;241m*\u001b[39margs: Any, \u001b[38;5;241m*\u001b[39m\u001b[38;5;241m*\u001b[39mkwargs: Any\n\u001b[0;32m    736\u001b[0m ) \u001b[38;5;241m-\u001b[39m\u001b[38;5;241m>\u001b[39m Any:\n\u001b[0;32m    737\u001b[0m     \u001b[38;5;28;01mtry\u001b[39;00m:\n\u001b[1;32m--> 738\u001b[0m         \u001b[38;5;28;01mreturn\u001b[39;00m cnx_method(cnx, \u001b[38;5;241m*\u001b[39margs, \u001b[38;5;241m*\u001b[39m\u001b[38;5;241m*\u001b[39mkwargs)\n\u001b[0;32m    739\u001b[0m     \u001b[38;5;28;01mexcept\u001b[39;00m \u001b[38;5;167;01mException\u001b[39;00m \u001b[38;5;28;01mas\u001b[39;00m err:\n\u001b[0;32m    740\u001b[0m         \u001b[38;5;28;01mif\u001b[39;00m \u001b[38;5;28misinstance\u001b[39m(err, \u001b[38;5;167;01mTimeoutError\u001b[39;00m):\n",
      "File \u001b[1;32m~\\AppData\\Roaming\\Python\\Python312\\site-packages\\mysql\\connector\\connection.py:937\u001b[0m, in \u001b[0;36mMySQLConnection.cmd_query\u001b[1;34m(self, query, raw, buffered, raw_as_string, **kwargs)\u001b[0m\n\u001b[0;32m    934\u001b[0m     read_timeout \u001b[38;5;241m=\u001b[39m kwargs\u001b[38;5;241m.\u001b[39mget(\u001b[38;5;124m\"\u001b[39m\u001b[38;5;124mread_timeout\u001b[39m\u001b[38;5;124m\"\u001b[39m, \u001b[38;5;28;01mNone\u001b[39;00m)\n\u001b[0;32m    935\u001b[0m     write_timeout \u001b[38;5;241m=\u001b[39m kwargs\u001b[38;5;241m.\u001b[39mget(\u001b[38;5;124m\"\u001b[39m\u001b[38;5;124mwrite_timeout\u001b[39m\u001b[38;5;124m\"\u001b[39m, \u001b[38;5;28;01mNone\u001b[39;00m)\n\u001b[1;32m--> 937\u001b[0m     result \u001b[38;5;241m=\u001b[39m \u001b[38;5;28mself\u001b[39m\u001b[38;5;241m.\u001b[39m_handle_result(\n\u001b[0;32m    938\u001b[0m         \u001b[38;5;28mself\u001b[39m\u001b[38;5;241m.\u001b[39m_send_cmd(\n\u001b[0;32m    939\u001b[0m             ServerCmd\u001b[38;5;241m.\u001b[39mQUERY,\n\u001b[0;32m    940\u001b[0m             query,\n\u001b[0;32m    941\u001b[0m             read_timeout\u001b[38;5;241m=\u001b[39mread_timeout,\n\u001b[0;32m    942\u001b[0m             write_timeout\u001b[38;5;241m=\u001b[39mwrite_timeout,\n\u001b[0;32m    943\u001b[0m         ),\n\u001b[0;32m    944\u001b[0m         read_timeout,\n\u001b[0;32m    945\u001b[0m         write_timeout,\n\u001b[0;32m    946\u001b[0m     )\n\u001b[0;32m    947\u001b[0m \u001b[38;5;28;01mexcept\u001b[39;00m ProgrammingError \u001b[38;5;28;01mas\u001b[39;00m err:\n\u001b[0;32m    948\u001b[0m     \u001b[38;5;28;01mif\u001b[39;00m err\u001b[38;5;241m.\u001b[39merrno \u001b[38;5;241m==\u001b[39m \u001b[38;5;241m3948\u001b[39m \u001b[38;5;129;01mand\u001b[39;00m \u001b[38;5;124m\"\u001b[39m\u001b[38;5;124mLoading local data is disabled\u001b[39m\u001b[38;5;124m\"\u001b[39m \u001b[38;5;129;01min\u001b[39;00m err\u001b[38;5;241m.\u001b[39mmsg:\n",
      "File \u001b[1;32m~\\AppData\\Roaming\\Python\\Python312\\site-packages\\mysql\\connector\\utils.py:742\u001b[0m, in \u001b[0;36mhandle_read_write_timeout.<locals>.decorator.<locals>.handle_cnx_method\u001b[1;34m(cnx, *args, **kwargs)\u001b[0m\n\u001b[0;32m    740\u001b[0m \u001b[38;5;28;01mif\u001b[39;00m \u001b[38;5;28misinstance\u001b[39m(err, \u001b[38;5;167;01mTimeoutError\u001b[39;00m):\n\u001b[0;32m    741\u001b[0m     cnx\u001b[38;5;241m.\u001b[39mclose()\n\u001b[1;32m--> 742\u001b[0m \u001b[38;5;28;01mraise\u001b[39;00m err\n",
      "File \u001b[1;32m~\\AppData\\Roaming\\Python\\Python312\\site-packages\\mysql\\connector\\utils.py:738\u001b[0m, in \u001b[0;36mhandle_read_write_timeout.<locals>.decorator.<locals>.handle_cnx_method\u001b[1;34m(cnx, *args, **kwargs)\u001b[0m\n\u001b[0;32m    733\u001b[0m \u001b[38;5;129m@functools\u001b[39m\u001b[38;5;241m.\u001b[39mwraps(cnx_method)\n\u001b[0;32m    734\u001b[0m \u001b[38;5;28;01mdef\u001b[39;00m \u001b[38;5;21mhandle_cnx_method\u001b[39m(\n\u001b[0;32m    735\u001b[0m     cnx: \u001b[38;5;124m\"\u001b[39m\u001b[38;5;124mMySQLConnectionAbstract\u001b[39m\u001b[38;5;124m\"\u001b[39m, \u001b[38;5;241m*\u001b[39margs: Any, \u001b[38;5;241m*\u001b[39m\u001b[38;5;241m*\u001b[39mkwargs: Any\n\u001b[0;32m    736\u001b[0m ) \u001b[38;5;241m-\u001b[39m\u001b[38;5;241m>\u001b[39m Any:\n\u001b[0;32m    737\u001b[0m     \u001b[38;5;28;01mtry\u001b[39;00m:\n\u001b[1;32m--> 738\u001b[0m         \u001b[38;5;28;01mreturn\u001b[39;00m cnx_method(cnx, \u001b[38;5;241m*\u001b[39margs, \u001b[38;5;241m*\u001b[39m\u001b[38;5;241m*\u001b[39mkwargs)\n\u001b[0;32m    739\u001b[0m     \u001b[38;5;28;01mexcept\u001b[39;00m \u001b[38;5;167;01mException\u001b[39;00m \u001b[38;5;28;01mas\u001b[39;00m err:\n\u001b[0;32m    740\u001b[0m         \u001b[38;5;28;01mif\u001b[39;00m \u001b[38;5;28misinstance\u001b[39m(err, \u001b[38;5;167;01mTimeoutError\u001b[39;00m):\n",
      "File \u001b[1;32m~\\AppData\\Roaming\\Python\\Python312\\site-packages\\mysql\\connector\\connection.py:703\u001b[0m, in \u001b[0;36mMySQLConnection._handle_result\u001b[1;34m(self, packet, read_timeout, write_timeout)\u001b[0m\n\u001b[0;32m    701\u001b[0m     \u001b[38;5;28;01mreturn\u001b[39;00m \u001b[38;5;28mself\u001b[39m\u001b[38;5;241m.\u001b[39m_handle_eof(packet)\n\u001b[0;32m    702\u001b[0m \u001b[38;5;28;01mif\u001b[39;00m packet[\u001b[38;5;241m4\u001b[39m] \u001b[38;5;241m==\u001b[39m \u001b[38;5;241m255\u001b[39m:\n\u001b[1;32m--> 703\u001b[0m     \u001b[38;5;28;01mraise\u001b[39;00m get_exception(packet)\n\u001b[0;32m    705\u001b[0m \u001b[38;5;66;03m# We have a text result set\u001b[39;00m\n\u001b[0;32m    706\u001b[0m column_count \u001b[38;5;241m=\u001b[39m \u001b[38;5;28mself\u001b[39m\u001b[38;5;241m.\u001b[39m_protocol\u001b[38;5;241m.\u001b[39mparse_column_count(packet)\n",
      "\u001b[1;31mProgrammingError\u001b[0m: 1050 (42S01): Table 'product_data' already exists"
     ]
    }
   ],
   "source": [
    "mycursor.execute(\"\"\"Create Table product_data(product_id INT PRIMARY KEY, product_name VARCHAR(255),category VARCHAR(255))\"\"\")"
   ]
  },
  {
   "cell_type": "code",
   "execution_count": null,
   "id": "6413a2b6-f199-4887-a461-e0597b001ba3",
   "metadata": {},
   "outputs": [],
   "source": [
    "mycursor.execute(\"\"\"CREATE TABLE customer_data (customer_id INT PRIMARY KEY,customer_Country VARCHAR(255),city VARCHAR(255))\"\"\")"
   ]
  },
  {
   "cell_type": "code",
   "execution_count": null,
   "id": "87e7dd95-b98c-4b23-b321-6cd311f5fd78",
   "metadata": {},
   "outputs": [],
   "source": [
    "mycursor.execute(\"\"\"CREATE TABLE date_data (date_id INT PRIMARY KEY,date DATE,month VARCHAR(255),year VARCHAR(255))\"\"\")"
   ]
  },
  {
   "cell_type": "code",
   "execution_count": null,
   "id": "a55aad40-147e-4803-a2a9-197977b235e9",
   "metadata": {},
   "outputs": [],
   "source": [
    "mycursor.execute(\"\"\"\n",
    "    CREATE TABLE sales_data (\n",
    "        _id INT PRIMARY KEY,\n",
    "        product_id INT,\n",
    "        customer_id INT,\n",
    "        date_id INT,\n",
    "        quantity INT,  -- Changed from VARCHAR(255) to INT, \n",
    "        price DECIMAL(10,2),  -- Changed from VARCHAR(255) \n",
    "        FOREIGN KEY (product_id) REFERENCES product_data(product_id),\n",
    "        FOREIGN KEY (customer_id) REFERENCES customer_data(customer_id),\n",
    "        FOREIGN KEY (date_id) REFERENCES date_data(date_id)\n",
    "    )\n",
    "\"\"\")"
   ]
  },
  {
   "cell_type": "code",
   "execution_count": null,
   "id": "6a8c643d-4f16-4e53-8777-2131a9426a82",
   "metadata": {},
   "outputs": [],
   "source": [
    "df=pd.read_excel(\"financial_sample.xlsx\")\n",
    "df"
   ]
  },
  {
   "cell_type": "markdown",
   "id": "988b3d04-6ea2-478f-a498-204e10d9d983",
   "metadata": {},
   "source": [
    "### Rename some columns"
   ]
  },
  {
   "cell_type": "code",
   "execution_count": null,
   "id": "079cbb10-2908-4e54-87e5-be2953d69ac5",
   "metadata": {},
   "outputs": [],
   "source": [
    "main_file.rename(columns = {\"Product\":\"product_name\",\"Country\":\"city\", \"Discount Band\":\"category\", \"Units Sold\":\"price\", \"Sale Price\":\"quantity\", \"Month Name\":\"month\", \"Date\":\"date\", \"Year\":\"year\", \"Segment\":\"customer_name\"}, inplace = True)"
   ]
  },
  {
   "cell_type": "code",
   "execution_count": null,
   "id": "2dd2205a-94ad-4b22-98de-2c8c65903265",
   "metadata": {},
   "outputs": [],
   "source": [
    "main_file.head()"
   ]
  },
  {
   "cell_type": "code",
   "execution_count": null,
   "id": "e951829f-0f4f-4632-b0c4-e5faa14c9292",
   "metadata": {},
   "outputs": [],
   "source": [
    "sales = pd.read_csv(\"sales_data.csv\")\n",
    "product = pd.read_csv(\"product_data.csv\")\n",
    "customer = pd.read_csv(\"customer_data.csv\")\n",
    "date = pd.read_csv(\"date_data.csv\")"
   ]
  },
  {
   "cell_type": "code",
   "execution_count": null,
   "id": "695d639e-227e-4f6c-81e3-b99f4a98f199",
   "metadata": {},
   "outputs": [],
   "source": [
    "product = main_file[['product_name', 'category']]\n",
    "product.to_csv(\"product_data.csv\", index=False)\n",
    "productnew = pd.read_csv(\"product_data.csv\")\n",
    "productnew.head()"
   ]
  },
  {
   "cell_type": "code",
   "execution_count": null,
   "id": "828ee2eb-cebd-4e39-b460-3d58931c5e6c",
   "metadata": {},
   "outputs": [],
   "source": [
    "customer = main_file[['customer_name','city']]\n",
    "customer.to_csv(\"customer_data.csv\", index=False)\n",
    "customernew = pd.read_csv(\"customer_data.csv\")\n",
    "customernew.head()"
   ]
  },
  {
   "cell_type": "code",
   "execution_count": null,
   "id": "4fc01cae-f4ff-48b0-a2f3-663bf0b6b63d",
   "metadata": {},
   "outputs": [],
   "source": [
    "date = main_file[['date','month','year']]\n",
    "date.to_csv(\"date_data.csv\", index=False)\n",
    "datenew = pd.read_csv(\"date_data.csv\")\n",
    "datenew.head()"
   ]
  },
  {
   "cell_type": "code",
   "execution_count": null,
   "id": "1da3c86d-e3ac-4a6f-b51d-33b6bda9eee7",
   "metadata": {},
   "outputs": [],
   "source": [
    "sales = main_file[['quantity','price']]\n",
    "sales.to_csv(\"sales_data.csv\", index=False)\n",
    "salesnew = pd.read_csv(\"sales_data.csv\")\n",
    "salesnew.head()"
   ]
  },
  {
   "cell_type": "code",
   "execution_count": null,
   "id": "4ee21cd1-85a3-430c-989d-af31788219d4",
   "metadata": {},
   "outputs": [],
   "source": [
    "!pip install mysql-connector-python pandas sqlalchemy"
   ]
  },
  {
   "cell_type": "code",
   "execution_count": null,
   "id": "86be2b17-45e4-4b5e-8ed9-5821cc007743",
   "metadata": {},
   "outputs": [],
   "source": [
    "import mysql.connector as mc\n",
    "from sqlalchemy import create_engine"
   ]
  },
  {
   "cell_type": "code",
   "execution_count": null,
   "id": "237df7e4-4244-466d-b271-87942fb9cdae",
   "metadata": {},
   "outputs": [],
   "source": [
    "#username = \"root\"\n",
    "#password = \"\"\n",
    "#host = \"localhost\"\n",
    "#database = \"sales1\"\n",
    "#db_url = f\"mysql+mysqlconnector://{username}:{password}@{host}/{database}\"\n",
    "#engine = create_engine(db_url)"
   ]
  },
  {
   "cell_type": "code",
   "execution_count": null,
   "id": "31b11e63-2e39-4fb0-b3eb-de0990c8a68c",
   "metadata": {},
   "outputs": [],
   "source": [
    "productnew = pd.DataFrame(productnew)\n",
    "datenew = pd.DataFrame(datenew)\n",
    "customernew = pd.DataFrame(customernew)\n",
    "salesnew = pd.DataFrame(salesnew)"
   ]
  },
  {
   "cell_type": "code",
   "execution_count": null,
   "id": "9a2af9d2-79ca-487a-ad50-5129fa0fcb64",
   "metadata": {},
   "outputs": [],
   "source": [
    "productnew.to_sql(\"product_data\", con=engine, if_exists=\"append\", index=False)\n",
    "datenew.to_sql(\"date_data\", con=engine, if_exists=\"append\", index=False)\n",
    "customernew.to_sql(\"customer_data\", con=engine, if_exists=\"append\", index=False)\n",
    "salesnew.to_sql(\"sales_data\", con=engine, if_exists=\"append\", index=False)"
   ]
  },
  {
   "cell_type": "code",
   "execution_count": null,
   "id": "3e4cc51a-44aa-4507-bc9a-a851b01e7e3a",
   "metadata": {},
   "outputs": [],
   "source": [
    "print(pd.read_sql('SELECT * FROM product_data LIMIT 10',db_url))"
   ]
  },
  {
   "cell_type": "code",
   "execution_count": null,
   "id": "5acc7086-74f4-4e63-9833-758e8bdb6202",
   "metadata": {},
   "outputs": [],
   "source": [
    "print(pd.read_sql('SELECT * FROM product_data LIMIT 10',db_url))"
   ]
  },
  {
   "cell_type": "code",
   "execution_count": null,
   "id": "167c5c3a-a43d-4720-84e4-fdc069151167",
   "metadata": {},
   "outputs": [],
   "source": []
  },
  {
   "cell_type": "code",
   "execution_count": null,
   "id": "e90038b3-3b09-4ee3-8c46-ffe7d088bf0e",
   "metadata": {},
   "outputs": [],
   "source": []
  }
 ],
 "metadata": {
  "kernelspec": {
   "display_name": "Python 3 (ipykernel)",
   "language": "python",
   "name": "python3"
  },
  "language_info": {
   "codemirror_mode": {
    "name": "ipython",
    "version": 3
   },
   "file_extension": ".py",
   "mimetype": "text/x-python",
   "name": "python",
   "nbconvert_exporter": "python",
   "pygments_lexer": "ipython3",
   "version": "3.12.7"
  }
 },
 "nbformat": 4,
 "nbformat_minor": 5
}
